{
 "cells": [
  {
   "cell_type": "markdown",
   "metadata": {},
   "source": [
    "# Goals"
   ]
  },
  {
   "cell_type": "markdown",
   "metadata": {},
   "source": [
    "Good data science projects start with a clear understanding of the data and where it comes from. In this tutorial, we will use HTTP requests and BeautifulSoup to write a web scraper, and then we will use NumPy, Pandas, matplotlib, sklearn, and Jupyter notebooks to explore that data carefully.\n",
    "\n",
    "The goal of this part of the tutorial is build your skills in: \n",
    "\n",
    "- asking good questions\n",
    "- finding good data\n",
    "- scraping a web page\n",
    "- cleaning and manipulating data\n",
    "- using pandas\n",
    "- exploratory data visualization\n",
    "- thinking about data and what features might be used to make predictions"
   ]
  },
  {
   "cell_type": "markdown",
   "metadata": {},
   "source": [
    "## We're going to make a movie! \n",
    "\n",
    "\n",
    "First, we want to learn about what makes a box office hit. So to start off let's pretend that we are some (very data savvy) movie producers, and we want to make a movie that will make us a lot of money.  \n",
    "\n",
    "<img src=\"https://pinnacle.topechelon.com/files/images/Pile%20of%20Money-resized-600.jpg\"\n",
    "     alt=\"Pile of money\"\n",
    "     style=\"align:center\"/>\n"
   ]
  },
  {
   "cell_type": "markdown",
   "metadata": {},
   "source": [
    "So what are some features of movies that might correlate with making a ton of money? Is it the budget? The actors"
   ]
  },
  {
   "cell_type": "markdown",
   "metadata": {},
   "source": [
    "##### Example 1.  Black Panther may be a contender for best movie EVARR\n",
    "\n",
    "<img src=\"http://www.nerdcoremovement.com/wp-content/uploads/Black-Panther-1-938x535.jpg\"\n",
    "     alt=\"Example Great Movie\"\n",
    "     style=\"float: left; margin-right: 10px;\"/>"
   ]
  },
  {
   "cell_type": "markdown",
   "metadata": {},
   "source": [
    "### Try it out!  \n",
    "\n",
    "List some of the features that you think you might want to consider as you make you make **The Best Movie Ever**."
   ]
  },
  {
   "cell_type": "markdown",
   "metadata": {},
   "source": [
    "*type your answer here*"
   ]
  },
  {
   "cell_type": "markdown",
   "metadata": {},
   "source": [
    "# Asking good questions  "
   ]
  },
  {
   "cell_type": "markdown",
   "metadata": {},
   "source": [
    "### \"A good question is one that you can answer.\"\n",
    "\n",
    "One of the most important (but unfortunately often overlooked) skills of any data practitioner is to know their own limitations. What is a good question? What questions can we ask given the data that we have? Check out these examples.\n",
    "\n",
    "** Not good : Vague**\n",
    " - Will my movie be a box office hit?\n",
    "\n",
    "** OK (ask with caution) : Causal**\n",
    " - If I cast Actor X, will my movie be a box office hit? \n",
    " \n",
    "** Good : Likelihood** \n",
    " - What is the likelihood that my movie will be a box office hit given that it has X features?\n",
    "\n",
    "** Better : Correlation**\n",
    " - What attributes of a movie are correlated with box office success?"
   ]
  },
  {
   "cell_type": "markdown",
   "metadata": {},
   "source": [
    "### Correlation does not imply causation \n",
    "\n",
    "While asserting that Nicolas Cage's popularity caused pool accidents is clearly silly, it's less clear if, for example, filming in one city will result in more box-office revenue than filming in another. If you need to be reminded that correlation does not imply causation, check out some of [these examples](http://www.tylervigen.com/spurious-correlations).\n",
    "\n",
    "<img src=\"http://tylervigen.com/images/spurious-correlations-share.png\"\n",
    "     alt=\"Correlation is not causation\"\n",
    "     style=\"float: left; margin-right: 10px;\"/>\n"
   ]
  },
  {
   "cell_type": "markdown",
   "metadata": {},
   "source": [
    "To ask the best question you can:\n",
    "\n",
    "1. Use your experience, research, or \"educated guess\" to narrow your question.\n",
    "2. If it is vague, rewrite your question as a correlation.\n",
    "3. Assure that you are asking one question for each of your variables.\n",
    "\n",
    "### \"But what if I really do *need* to argue for causality?\"\n",
    "\n",
    "Causality is notoriously hard to prove, but if you think that something is causal and you need to argue for causation, there are some ways to do this. This [blog post](https://statswithcats.wordpress.com/2015/01/01/how-to-tell-if-correlation-implies-causation/) outlines a few ways to start thinking about this type of argument. We won't discuss this further in this tutorial though. "
   ]
  },
  {
   "cell_type": "markdown",
   "metadata": {},
   "source": [
    "### Try it out!  \n",
    "\n",
    "Come up with 10 questions that you would like to answer. Note whether they are vague, causal, likelihood-based, or correlation-based. If you need some examples of what we are looking for, check out [this list]().\n",
    "\n",
    "Prepare to revise your assumptions and share a few of your examples. "
   ]
  },
  {
   "cell_type": "markdown",
   "metadata": {},
   "source": [
    "*type your answer here*"
   ]
  },
  {
   "cell_type": "markdown",
   "metadata": {},
   "source": [
    "# Getting good data "
   ]
  },
  {
   "cell_type": "markdown",
   "metadata": {},
   "source": [
    "The type of data that we have has the potential to limit the types of questions that we can answer. Knowing how to access, clean, and curate good data is an essential skill for most data practioners.  \n",
    "\n",
    "## What are some good places to get data? \n",
    "\n",
    "There are a lot of good places to get data! If you want to start looking at some data sets, here are a few repositories. \n",
    "   - [Kaggle](https://www.kaggle.com/datasets)  \n",
    "   - [FiveThirtyEight](https://data.fivethirtyeight.com/)\n",
    "   - [Government Data](https://catalog.data.gov/dataset)\n",
    "   - APIs (e.g. [IMDBPy](https://imdbpy.sourceforge.io/), [Twitter](https://developer.twitter.com/en/docs/api-reference-index), etc.)\n",
    "   - Scraping the Internet! \n",
    "    \n",
    "### What sites should you scrape? \n",
    "\n",
    "When you want to find a certain type of data, try to find data that is structured (e.g. Wikipedia). Tables, headings, and text boxes stand out, and can be easier to find. **Remember to read the Terms of Service for the site that you plan to scrape.**\n",
    "\n",
    "<img src=\"../img/scrapingsites.png\"\n",
    "     alt=\"Example Data sources\"\n",
    "     style=\"align:center\"/>"
   ]
  },
  {
   "cell_type": "markdown",
   "metadata": {},
   "source": [
    "### Try it out! \n",
    "\n",
    "We are going to use data to make **The Best Movie Ever**, but what are some good places for us to get that data? "
   ]
  },
  {
   "cell_type": "markdown",
   "metadata": {},
   "source": [
    "*type your answer here*"
   ]
  },
  {
   "cell_type": "markdown",
   "metadata": {},
   "source": [
    "## Start scraping \n",
    "\n",
    "To get started, we need to import several packages. We explain what several of these imports are below in the comments. "
   ]
  },
  {
   "cell_type": "code",
   "execution_count": 1,
   "metadata": {
    "collapsed": false
   },
   "outputs": [],
   "source": [
    "# The %... is an iPython thing, and is not part of the Python language.\n",
    "# In this case we're just telling the plotting library to draw things on\n",
    "# the notebook, instead of on a separate window.\n",
    "%matplotlib inline \n",
    "# See all the \"as ...\" contructs? They're just aliasing the package names.\n",
    "# That way we can call methods like plt.plot() instead of matplotlib.pyplot.plot().\n",
    "from matplotlib import rcParams # special matplotlib argument for improved plots\n",
    "from collections import defaultdict \n",
    "\n",
    "import numpy as np\n",
    "import pandas as pd\n",
    "import matplotlib.pyplot as plt\n",
    "import cPickle as pickle\n",
    "import seaborn as sns\n",
    "sns.set_style(\"whitegrid\")\n",
    "sns.set_context(\"poster\")\n",
    "\n",
    "import io \n",
    "import warnings\n",
    "warnings.filterwarnings('ignore')"
   ]
  },
  {
   "cell_type": "markdown",
   "metadata": {},
   "source": [
    "We use [Seaborn](http://seaborn.pydata.org/) to give us a nicer default color palette, with our plots being of large (poster) size and with a white-grid background. "
   ]
  },
  {
   "cell_type": "markdown",
   "metadata": {},
   "source": [
    "### Scrape Box Office Mojo \n",
    "\n",
    "To get the text from the website to your local machine, we will use a GET request, which is available in the [Requests](http://docs.python-requests.org/en/master/) library. \n",
    "\n",
    "To get started exploring the text that you bring to your local machine, we will use [Beautiful Soup](https://www.crummy.com/software/BeautifulSoup/). If you are familiar with another scraping library like [PyQuery](https://pythonhosted.org/pyquery/) or [Scrapy](https://scrapy.org/), feel free to do this exercise using those instead (or in addition! :)). "
   ]
  },
  {
   "cell_type": "code",
   "execution_count": 2,
   "metadata": {
    "collapsed": true
   },
   "outputs": [],
   "source": [
    "from bs4 import BeautifulSoup\n",
    "# The \"requests\" library makes working with HTTP requests easier\n",
    "# than the built-in urllib libraries.\n",
    "import requests\n",
    "import time"
   ]
  },
  {
   "cell_type": "markdown",
   "metadata": {},
   "source": [
    "Here, we access a webpage and download the HTML using requests. When we make a GET response, we get an HTTP response object back. "
   ]
  },
  {
   "cell_type": "code",
   "execution_count": 3,
   "metadata": {
    "collapsed": false
   },
   "outputs": [],
   "source": [
    "r_2018 = requests.get(\"http://www.boxofficemojo.com/yearly/chart/?view=releasedate&view2=domestic&page=1&yr=2018\")\n",
    "time.sleep(1) # sleeping is important!"
   ]
  },
  {
   "cell_type": "markdown",
   "metadata": {},
   "source": [
    "You should get a HTTP response 200, which means that the request went through without issue. If you get another HTTP response, you can look it up in [this list](https://en.wikipedia.org/wiki/List_of_HTTP_status_codes) to determine what it is. \n",
    "\n",
    "Alternatively, if you like your HTTP status codes illustrated as cat gifs, you can look up your codes using [http.cat](https://http.cat/)."
   ]
  },
  {
   "cell_type": "code",
   "execution_count": 4,
   "metadata": {
    "collapsed": false
   },
   "outputs": [
    {
     "name": "stdout",
     "output_type": "stream",
     "text": [
      "<Response [200]>\n"
     ]
    }
   ],
   "source": [
    "print r_2018"
   ]
  },
  {
   "cell_type": "markdown",
   "metadata": {},
   "source": [
    "There are a lot of awesome things going in this response object. Most relevantly, it has returned all the text from the page that we made the request from to us, so we can look at it on our local machine. "
   ]
  },
  {
   "cell_type": "code",
   "execution_count": 5,
   "metadata": {
    "collapsed": true
   },
   "outputs": [],
   "source": [
    "## uncomment the line below to see the html returned by the response \n",
    "#print r_2018.text"
   ]
  },
  {
   "cell_type": "markdown",
   "metadata": {},
   "source": [
    "While this blob of text is not difficult for our computer to search through, it can be a little difficult for us to wrap human brains around. Some other ways that we can look at the text are: \n",
    "\n",
    "(a) Right click > View Source. \n",
    "\n",
    "(b) Right click > Inspect Item \n",
    "\n",
    "(c) View > Developer > Developer Tools \n"
   ]
  },
  {
   "cell_type": "markdown",
   "metadata": {},
   "source": [
    "### Try it out! \n",
    "\n",
    "### Understanding the HTML \n",
    "\n",
    "Which parts of this text do we need to get information about these movies? How can we pull out only the information that we want? "
   ]
  },
  {
   "cell_type": "markdown",
   "metadata": {},
   "source": [
    "*double-click to type your answer here*"
   ]
  },
  {
   "cell_type": "markdown",
   "metadata": {},
   "source": [
    "### Try it out!\n",
    "\n",
    "### Requests \n",
    "\n",
    "Scrape [Box Office Mojo's](http://www.boxofficemojo.com/yearly/chart/?yr=2018&p=1) data for movies from 2016 to 2018 and store the page text in a dictionary. **Remember to use the time(s) function to add a wait before each GET request.** \n",
    "\n",
    "(Optional) If you feel like you need more of a hint to get started, [check out this example](https://github.com/dhanus/scipy16-examples/blob/master/SciPyTalk_RequestsAndBeautifulSoup_Example.ipynb)."
   ]
  },
  {
   "cell_type": "code",
   "execution_count": 6,
   "metadata": {
    "collapsed": false
   },
   "outputs": [],
   "source": [
    "# Your answer here\n",
    "years = xrange(2016,2018)\n",
    "pages = xrange(1,9)\n",
    "year_pagetxt = {}\n",
    "for year in years: \n",
    "    pagestext = {}\n",
    "    for page in pages: \n",
    "        r = requests.get(\"http://www.boxofficemojo.com/yearly/chart/?page=%s&view=releasedate&view2=domestic&yr=%s&p=.htm\"%(page, year))\n",
    "        pagestext[page] = r.text\n",
    "        time.sleep(1)\n",
    "    year_pagetxt[year] = pagestext"
   ]
  },
  {
   "cell_type": "code",
   "execution_count": 7,
   "metadata": {
    "collapsed": false
   },
   "outputs": [],
   "source": [
    "# if you do not finish this exercise, we made the result for you here.\n",
    "year_pagetxt = pickle.load(io.open('../data/pagetxt.p','rb'))"
   ]
  },
  {
   "cell_type": "markdown",
   "metadata": {},
   "source": [
    "### Beautiful Soup \n",
    "\n",
    "Beautiful Soup makes our HTML text queryable. Once you run a command like the one below, you can think of your HTML as a tree made of nodes as shown. \n",
    "\n",
    "You can do things like finding every html attribute of a certain type. Look at the [Beautiful Soup](https://www.crummy.com/software/BeautifulSoup/bs4/doc/) documentation to explore some of the commands that you can make. \n",
    "\n",
    "> soup  ==  BeautifulSoup(page_text, \"html.parser\")\n",
    "\n",
    "<img src=\"../img/beautifulsoup.png\"\n",
    "     alt=\"Example Data sources\"\n",
    "     style=\"align:center\"/>"
   ]
  },
  {
   "cell_type": "markdown",
   "metadata": {},
   "source": [
    "### Try it out! \n",
    "\n",
    "Use BeautifulSoup to explore the text data. Store the information from the table in the dictionary with the column heading as the key and a list of values as the value. \n",
    "\n",
    "(Optional) If you feel like you need more of a hint to get started, [check out this example](https://github.com/dhanus/scipy16-examples/blob/master/SciPyTalk_RequestsAndBeautifulSoup_Example.ipynb)."
   ]
  },
  {
   "cell_type": "code",
   "execution_count": 8,
   "metadata": {
    "collapsed": false
   },
   "outputs": [],
   "source": [
    "# Your answer here \n",
    "\n",
    "# This loop cycles through the data obtained on Box Office Mojo\n",
    "## And placed in a dictionary for recall later when folding in IMDb information\n",
    "movie_budget = defaultdict(list) \n",
    "for year in years: \n",
    "    for page in pages: \n",
    "        soup = BeautifulSoup(year_pagetxt[year][page], \"html.parser\")\n",
    "        rows = soup.find_all(\"font\", attrs={'size':'2'})\n",
    "           \n",
    "        start = 10 \n",
    "        for i in range(start,len(rows)-2):\n",
    "            t = rows[i].get_text()\n",
    "            if unicode('Summary of') in t: \n",
    "                break\n",
    "            elif (i-start) % 9 == 0: \n",
    "                movie_budget['rank'].append(t)\n",
    "            elif (i-start) % 9 == 1: \n",
    "                movie_budget['year'].append(year)\n",
    "                r = '('+str(year)\n",
    "                if unicode(r) in t: \n",
    "                    j = t.index(unicode(r))\n",
    "                    movie_budget['title'].append(t[:j])\n",
    "                else: \n",
    "                    movie_budget['title'].append(t)\n",
    "            elif (i-start) % 9 == 2: \n",
    "                movie_budget['studio'].append(t)\n",
    "            elif (i-start) % 9 == 3: \n",
    "                movie_budget['gross'].append(t)\n",
    "            elif (i-start) % 9 == 4: \n",
    "                movie_budget['gross theaters'].append(t)\n",
    "            elif (i-start) % 9 == 5: \n",
    "                movie_budget['opening'].append(t)\n",
    "            elif (i-start) % 9 == 6: \n",
    "                movie_budget['opening theaters'].append(t)\n",
    "            elif (i-start) % 9 == 7: \n",
    "                movie_budget['open'].append(t)\n",
    "            elif (i-start) % 9 == 8: \n",
    "                movie_budget['close'].append(t)"
   ]
  },
  {
   "cell_type": "markdown",
   "metadata": {},
   "source": [
    "# Exploratory Data Analysis Preview "
   ]
  },
  {
   "cell_type": "markdown",
   "metadata": {},
   "source": [
    "Before we do any fancy statistical modeling, we need to understand our data. To do this, there is no substitute for looking at our data, making some scatter plots, and getting a better idea of how the data looks. \n",
    "\n",
    "### Load the data\n",
    "\n",
    "[Pandas](https://pandas.pydata.org/) is a Python library for data analysis, which heavily uses the [DataFrame](https://pandas.pydata.org/pandas-docs/stable/generated/pandas.DataFrame.html) structure. Here, we work with a data frame, in which each row is a movie and each column is a feature of that movie. "
   ]
  },
  {
   "cell_type": "code",
   "execution_count": 9,
   "metadata": {
    "collapsed": false
   },
   "outputs": [
    {
     "data": {
      "text/html": [
       "<div>\n",
       "<table border=\"1\" class=\"dataframe\">\n",
       "  <thead>\n",
       "    <tr style=\"text-align: right;\">\n",
       "      <th></th>\n",
       "      <th>budget</th>\n",
       "      <th>cast</th>\n",
       "      <th>close</th>\n",
       "      <th>director</th>\n",
       "      <th>gross</th>\n",
       "      <th>mpaa</th>\n",
       "      <th>open</th>\n",
       "      <th>opening_gross</th>\n",
       "      <th>opening_theaters</th>\n",
       "      <th>rank</th>\n",
       "      <th>...</th>\n",
       "      <th>Jan-May</th>\n",
       "      <th>Dec</th>\n",
       "      <th>June-Sep</th>\n",
       "      <th>Oct-Nov</th>\n",
       "      <th>mpaa_new</th>\n",
       "      <th>PG</th>\n",
       "      <th>R</th>\n",
       "      <th>PG-13</th>\n",
       "      <th>prol_studio</th>\n",
       "      <th>Tier_2</th>\n",
       "    </tr>\n",
       "  </thead>\n",
       "  <tbody>\n",
       "    <tr>\n",
       "      <th>0327597</th>\n",
       "      <td>60000000.0</td>\n",
       "      <td>None</td>\n",
       "      <td>7/2</td>\n",
       "      <td>None</td>\n",
       "      <td>75286229.0</td>\n",
       "      <td>Rated PG for thematic elements, scary images, ...</td>\n",
       "      <td>2/6</td>\n",
       "      <td>16849640.0</td>\n",
       "      <td>2299.0</td>\n",
       "      <td>43</td>\n",
       "      <td>...</td>\n",
       "      <td>True</td>\n",
       "      <td>False</td>\n",
       "      <td>False</td>\n",
       "      <td>False</td>\n",
       "      <td>PG</td>\n",
       "      <td>True</td>\n",
       "      <td>False</td>\n",
       "      <td>False</td>\n",
       "      <td>False</td>\n",
       "      <td>True</td>\n",
       "    </tr>\n",
       "    <tr>\n",
       "      <th>0337692</th>\n",
       "      <td>25000000.0</td>\n",
       "      <td>None</td>\n",
       "      <td>5/24</td>\n",
       "      <td>None</td>\n",
       "      <td>92476.0</td>\n",
       "      <td>Rated R for strong sexual content, drug use an...</td>\n",
       "      <td>5/11</td>\n",
       "      <td>56692.0</td>\n",
       "      <td>50.0</td>\n",
       "      <td>372</td>\n",
       "      <td>...</td>\n",
       "      <td>True</td>\n",
       "      <td>False</td>\n",
       "      <td>False</td>\n",
       "      <td>False</td>\n",
       "      <td>R</td>\n",
       "      <td>False</td>\n",
       "      <td>True</td>\n",
       "      <td>False</td>\n",
       "      <td>False</td>\n",
       "      <td>False</td>\n",
       "    </tr>\n",
       "    <tr>\n",
       "      <th>0359950</th>\n",
       "      <td>91000000.0</td>\n",
       "      <td>None</td>\n",
       "      <td>4/10</td>\n",
       "      <td>None</td>\n",
       "      <td>58236838.0</td>\n",
       "      <td>Rated PG for some crude comments, language and...</td>\n",
       "      <td>12/25</td>\n",
       "      <td>12765508.0</td>\n",
       "      <td>2909.0</td>\n",
       "      <td>60</td>\n",
       "      <td>...</td>\n",
       "      <td>False</td>\n",
       "      <td>True</td>\n",
       "      <td>False</td>\n",
       "      <td>False</td>\n",
       "      <td>PG</td>\n",
       "      <td>True</td>\n",
       "      <td>False</td>\n",
       "      <td>False</td>\n",
       "      <td>True</td>\n",
       "      <td>False</td>\n",
       "    </tr>\n",
       "    <tr>\n",
       "      <th>0361748</th>\n",
       "      <td>70000000.0</td>\n",
       "      <td>None</td>\n",
       "      <td>12/17</td>\n",
       "      <td>None</td>\n",
       "      <td>120540719.0</td>\n",
       "      <td>Rated R for strong graphic violence, language ...</td>\n",
       "      <td>8/21</td>\n",
       "      <td>38054676.0</td>\n",
       "      <td>3165.0</td>\n",
       "      <td>25</td>\n",
       "      <td>...</td>\n",
       "      <td>False</td>\n",
       "      <td>False</td>\n",
       "      <td>True</td>\n",
       "      <td>False</td>\n",
       "      <td>R</td>\n",
       "      <td>False</td>\n",
       "      <td>True</td>\n",
       "      <td>False</td>\n",
       "      <td>False</td>\n",
       "      <td>False</td>\n",
       "    </tr>\n",
       "    <tr>\n",
       "      <th>0362478</th>\n",
       "      <td>25000000.0</td>\n",
       "      <td>None</td>\n",
       "      <td>1/7</td>\n",
       "      <td>None</td>\n",
       "      <td>15051977.0</td>\n",
       "      <td>Rated PG-13 for thematic elements, some violen...</td>\n",
       "      <td>11/6</td>\n",
       "      <td>7571417.0</td>\n",
       "      <td>2635.0</td>\n",
       "      <td>125</td>\n",
       "      <td>...</td>\n",
       "      <td>False</td>\n",
       "      <td>False</td>\n",
       "      <td>False</td>\n",
       "      <td>True</td>\n",
       "      <td>PG-13</td>\n",
       "      <td>False</td>\n",
       "      <td>False</td>\n",
       "      <td>True</td>\n",
       "      <td>True</td>\n",
       "      <td>False</td>\n",
       "    </tr>\n",
       "  </tbody>\n",
       "</table>\n",
       "<p>5 rows × 25 columns</p>\n",
       "</div>"
      ],
      "text/plain": [
       "             budget  cast  close director        gross  \\\n",
       "0327597  60000000.0  None    7/2     None   75286229.0   \n",
       "0337692  25000000.0  None   5/24     None      92476.0   \n",
       "0359950  91000000.0  None   4/10     None   58236838.0   \n",
       "0361748  70000000.0  None  12/17     None  120540719.0   \n",
       "0362478  25000000.0  None    1/7     None   15051977.0   \n",
       "\n",
       "                                                      mpaa   open  \\\n",
       "0327597  Rated PG for thematic elements, scary images, ...    2/6   \n",
       "0337692  Rated R for strong sexual content, drug use an...   5/11   \n",
       "0359950  Rated PG for some crude comments, language and...  12/25   \n",
       "0361748  Rated R for strong graphic violence, language ...   8/21   \n",
       "0362478  Rated PG-13 for thematic elements, some violen...   11/6   \n",
       "\n",
       "         opening_gross  opening_theaters rank  ...    Jan-May    Dec June-Sep  \\\n",
       "0327597     16849640.0            2299.0   43  ...       True  False    False   \n",
       "0337692        56692.0              50.0  372  ...       True  False    False   \n",
       "0359950     12765508.0            2909.0   60  ...      False   True    False   \n",
       "0361748     38054676.0            3165.0   25  ...      False  False     True   \n",
       "0362478      7571417.0            2635.0  125  ...      False  False    False   \n",
       "\n",
       "        Oct-Nov mpaa_new     PG      R  PG-13 prol_studio Tier_2  \n",
       "0327597   False       PG   True  False  False       False   True  \n",
       "0337692   False        R  False   True  False       False  False  \n",
       "0359950   False       PG   True  False  False        True  False  \n",
       "0361748   False        R  False   True  False       False  False  \n",
       "0362478    True    PG-13  False  False   True        True  False  \n",
       "\n",
       "[5 rows x 25 columns]"
      ]
     },
     "execution_count": 9,
     "metadata": {},
     "output_type": "execute_result"
    }
   ],
   "source": [
    "# load a pandas dataframe\n",
    "df = pd.read_pickle('../data/df.p')\n",
    "df.head()"
   ]
  },
  {
   "cell_type": "code",
   "execution_count": 10,
   "metadata": {
    "collapsed": false
   },
   "outputs": [
    {
     "data": {
      "text/plain": [
       "Index([          u'budget',             u'cast',            u'close',\n",
       "               u'director',            u'gross',             u'mpaa',\n",
       "                   u'open',    u'opening_gross', u'opening_theaters',\n",
       "                   u'rank',           u'rating',           u'season',\n",
       "                 u'studio',            u'title',             u'year',\n",
       "                u'Jan-May',              u'Dec',         u'June-Sep',\n",
       "                u'Oct-Nov',         u'mpaa_new',               u'PG',\n",
       "                      u'R',            u'PG-13',      u'prol_studio',\n",
       "                 u'Tier_2'],\n",
       "      dtype='object')"
      ]
     },
     "execution_count": 10,
     "metadata": {},
     "output_type": "execute_result"
    }
   ],
   "source": [
    "df.keys()"
   ]
  },
  {
   "cell_type": "markdown",
   "metadata": {},
   "source": [
    "### Some Features to Explore \n",
    "\n",
    "- **Movie Budget**\n",
    "- **Opening Weekend**\n",
    "- **Opening Theaters**\n",
    "- **IMDb rating**\n",
    "- **Seasonality**\n",
    "- **MPAA Rating**\n",
    "- **Power Studios**"
   ]
  },
  {
   "cell_type": "markdown",
   "metadata": {},
   "source": [
    "## Example correlation plots \n",
    "\n",
    "Remember, the goal of all of this data analysis is to make a ton of money, so it might make sense to see how each of these factors correlate with **gross revenue**. \n",
    "\n",
    "### Linear regression \n",
    "\n",
    "One nice way of exploring how two variables look in relationship to one another is to make a regression plot. A nice explanation of linear regression can be found [here](https://jakevdp.github.io/PythonDataScienceHandbook/05.06-linear-regression.html). Most data analysis tools have some way of doing linear regression. In this tutorial, we will use the [seaborn regplot](https://seaborn.pydata.org/tutorial/regression.html) to plot regressions.  "
   ]
  },
  {
   "cell_type": "markdown",
   "metadata": {},
   "source": [
    "#### Gross Revenue vs. Opening Weekend Revenue"
   ]
  },
  {
   "cell_type": "code",
   "execution_count": 11,
   "metadata": {
    "collapsed": false
   },
   "outputs": [
    {
     "data": {
      "text/plain": [
       "<matplotlib.axes._subplots.AxesSubplot at 0x115bdd390>"
      ]
     },
     "execution_count": 11,
     "metadata": {},
     "output_type": "execute_result"
    },
    {
     "data": {
      "image/png": "[encoded data removed]",
      "text/plain": [
       "<matplotlib.figure.Figure at 0x115bddb90>"
      ]
     },
     "metadata": {},
     "output_type": "display_data"
    }
   ],
   "source": [
    "sns.regplot(y=\"gross\", x=\"opening_gross\", data=df, fit_reg = True)"
   ]
  },
  {
   "cell_type": "markdown",
   "metadata": {},
   "source": [
    "### What does this plot tell us? "
   ]
  },
  {
   "cell_type": "markdown",
   "metadata": {},
   "source": [
    "*your answer here*"
   ]
  },
  {
   "cell_type": "markdown",
   "metadata": {},
   "source": [
    "#### Gross Revenue vs. Opening Theaters"
   ]
  },
  {
   "cell_type": "code",
   "execution_count": 17,
   "metadata": {
    "collapsed": false
   },
   "outputs": [
    {
     "data": {
      "text/plain": [
       "<matplotlib.axes._subplots.AxesSubplot at 0x109e99550>"
      ]
     },
     "execution_count": 17,
     "metadata": {},
     "output_type": "execute_result"
    },
    {
     "data": {
      "image/png": "[encoded data removed]",
      "text/plain": [
       "<matplotlib.figure.Figure at 0x1164ccd50>"
      ]
     },
     "metadata": {},
     "output_type": "display_data"
    }
   ],
   "source": [
    "# your answer here \n",
    "sns.regplot(y=\"gross\", x=\"opening_theaters\", data=df, fit_reg = True)"
   ]
  },
  {
   "cell_type": "markdown",
   "metadata": {},
   "source": [
    "### What does this plot tell us? "
   ]
  },
  {
   "cell_type": "markdown",
   "metadata": {},
   "source": [
    "*your answer here*"
   ]
  },
  {
   "cell_type": "markdown",
   "metadata": {},
   "source": [
    "#### Gross Revenue vs Allocated Budget "
   ]
  },
  {
   "cell_type": "code",
   "execution_count": 18,
   "metadata": {
    "collapsed": false
   },
   "outputs": [
    {
     "data": {
      "text/plain": [
       "<matplotlib.axes._subplots.AxesSubplot at 0x109cbdc90>"
      ]
     },
     "execution_count": 18,
     "metadata": {},
     "output_type": "execute_result"
    },
    {
     "data": {
      "image/png": "[encoded data removed]",
      "text/plain": [
       "<matplotlib.figure.Figure at 0x1165e7090>"
      ]
     },
     "metadata": {},
     "output_type": "display_data"
    }
   ],
   "source": [
    "# your answer here \n",
    "sns.regplot(y=\"gross\", x=\"budget\", data=df, fit_reg = True)"
   ]
  },
  {
   "cell_type": "markdown",
   "metadata": {},
   "source": [
    "### What does this plot tell us? "
   ]
  },
  {
   "cell_type": "markdown",
   "metadata": {},
   "source": [
    "*your answer here*"
   ]
  },
  {
   "cell_type": "markdown",
   "metadata": {},
   "source": [
    "#### Gross revenue vs IMDB rating "
   ]
  },
  {
   "cell_type": "code",
   "execution_count": 19,
   "metadata": {
    "collapsed": false
   },
   "outputs": [
    {
     "data": {
      "text/plain": [
       "<matplotlib.axes._subplots.AxesSubplot at 0x11a376910>"
      ]
     },
     "execution_count": 19,
     "metadata": {},
     "output_type": "execute_result"
    },
    {
     "data": {
      "image/png": "[encoded data removed]",
      "text/plain": [
       "<matplotlib.figure.Figure at 0x11a5c5dd0>"
      ]
     },
     "metadata": {},
     "output_type": "display_data"
    }
   ],
   "source": [
    "# your answer here \n",
    "sns.regplot(y=\"gross\", x=\"rating\", data=df, fit_reg = True)"
   ]
  },
  {
   "cell_type": "markdown",
   "metadata": {},
   "source": [
    "### What does this plot tell us? "
   ]
  },
  {
   "cell_type": "markdown",
   "metadata": {},
   "source": [
    "*your answer here*"
   ]
  },
  {
   "cell_type": "markdown",
   "metadata": {},
   "source": [
    "### Bonus: What other features? \n",
    "\n",
    "There is always more to explore and discover in the data. Is there anything else that you wish that we had explored together? If so, feel free to try it out now! \n",
    "\n",
    "If you find yourself feeling stuck, you can check out [oscarpredictor.github.io](http://oscarpredictor.github.io/) for inspiration. "
   ]
  },
  {
   "cell_type": "code",
   "execution_count": null,
   "metadata": {
    "collapsed": true
   },
   "outputs": [],
   "source": []
  }
 ],
 "metadata": {
  "anaconda-cloud": {},
  "kernelspec": {
   "display_name": "Python [default]",
   "language": "python",
   "name": "python2"
  },
  "language_info": {
   "codemirror_mode": {
    "name": "ipython",
    "version": 2
   },
   "file_extension": ".py",
   "mimetype": "text/x-python",
   "name": "python",
   "nbconvert_exporter": "python",
   "pygments_lexer": "ipython2",
   "version": "2.7.12"
  }
 },
 "nbformat": 4,
 "nbformat_minor": 1
}
