{
 "cells": [
  {
   "cell_type": "markdown",
   "metadata": {},
   "source": [
    "# Goals \n",
    "\n",
    "The goal of this part of the tutorial is build your skills in: \n",
    "   - Asking good questions \n",
    "   - Working with data\n",
    "   - Exploratory Data Analysis\n",
    "   - Learn about a few types of regression\n",
    "       - Linear regression\n",
    "       - Logistic regression \n",
    "       - Lasso regularization \n",
    "       - Ridge regularization \n",
    "   - Fit a model \n",
    "   - Evaluate the model, using accuracy and ROC \n",
    "   - Predicting whether a movie will win an Oscar"
   ]
  },
  {
   "cell_type": "markdown",
   "metadata": {},
   "source": [
    "## We're going to make an award winning movie! \n",
    "\n",
    "In the last section, we wanted to explore what movie features would make us a huge pile of money. But now, we have moved on from our desire for earthly goods like money. We have moved on to more nobel goals like  <span>**FAME & ETERNAL GLORY**</span>!! To cement our place in the history books, we need to figure out how to make a movie that will win an [Academy Award aka Oscar](https://en.wikipedia.org/wiki/Academy_Awards)!!  \n",
    "\n",
    "<img src=\"https://cbsnews2.cbsistatic.com/hub/i/r/2014/03/03/63e74ae4-8175-4c17-b2c6-930f945fc2e9/thumbnail/620x350/7a32fdb6196986fcd86888fc40a1f6d7/476261125.jpg\"\n",
    "     alt=\"Oscars\"\n",
    "     style=\"align: center\"/>\n",
    "\n"
   ]
  },
  {
   "cell_type": "markdown",
   "metadata": {},
   "source": [
    "# Ask a good question \n",
    "\n",
    "Given our new life outlook and a dataset that includes all of the information we could want about every movie ever made, including those that had won Oscars, what kind of questions are we trying to get the data to answer? \n",
    "\n",
    "### Try it out! \n",
    "\n",
    "Come up with some questions that you would like the answers to. Discuss with your group, and be prepared to share your answers.  "
   ]
  },
  {
   "cell_type": "markdown",
   "metadata": {},
   "source": [
    "*your answer here*"
   ]
  },
  {
   "cell_type": "markdown",
   "metadata": {},
   "source": [
    "# Finding good data (& revising your questions)"
   ]
  },
  {
   "cell_type": "markdown",
   "metadata": {},
   "source": [
    "<img src=\"http://www.clker.com/cliparts/h/3/h/f/L/d/red-light-bulb.svg\"\n",
    "     alt=\"red alert\"\n",
    "     style=\"align: center\"/>\n",
    "\n",
    "Uh oh! We have some late breaking news about our data source! While we were planning on getting all of the information for every movie from IMDPy, that turned out to be (a) way too many movies, and (b) way to slow.  \n",
    "\n",
    "We still need to find some features that could increase the likelihood that we will win an Academy Award, and all we have is this spreadsheet with some data features for all the movies nominated for an Academy Award from 1981 - 2005. ** What do we do? Is there any way we can salvage this situation?**"
   ]
  },
  {
   "cell_type": "markdown",
   "metadata": {},
   "source": [
    "*your answer here*"
   ]
  },
  {
   "cell_type": "markdown",
   "metadata": {},
   "source": [
    "# Exploratory Data Analysis\n",
    "\n",
    "So we have this spreadsheet that we dumped into a Pandas DataFrame. Let's take a look at it and see what we can learn about it! "
   ]
  },
  {
   "cell_type": "code",
   "execution_count": 24,
   "metadata": {
    "collapsed": true
   },
   "outputs": [],
   "source": [
    "import numpy as np\n",
    "import scipy as sp\n",
    "import matplotlib as mpl\n",
    "import matplotlib.cm as cm\n",
    "import matplotlib.pyplot as plt\n",
    "import pandas as pd\n",
    "pd.set_option('display.width', 500)\n",
    "pd.set_option('display.max_columns', 100)\n",
    "pd.set_option('display.notebook_repr_html', True)\n",
    "import cPickle as pickle\n",
    "import seaborn as sns\n",
    "sns.set_style(\"whitegrid\")\n",
    "sns.set_context(\"poster\")\n",
    "import sklearn.metrics as metrics\n",
    "\n",
    "from collections import defaultdict\n",
    "from datetime import datetime\n",
    "\n",
    "import io\n",
    "import time\n",
    "import math\n",
    "import operator"
   ]
  },
  {
   "cell_type": "code",
   "execution_count": 25,
   "metadata": {
    "collapsed": false
   },
   "outputs": [],
   "source": [
    "# Load dict of Oscar nominated movies and convert to DataFrame\n",
    "AAdf_complete = pd.DataFrame.from_dict(pickle.load(open('AAdict_complete.p','rb'))).transpose()"
   ]
  },
  {
   "cell_type": "code",
   "execution_count": 26,
   "metadata": {
    "collapsed": true
   },
   "outputs": [],
   "source": [
    "# Load dataframe of Oscar nominated movies minus outcomes \n",
    "pickle.dump(dftouse, open('AAdict.p','wb'))\n",
    "AAdf = pd.DataFrame.from_dict(pickle.load(open('AAdict.p','rb')))"
   ]
  },
  {
   "cell_type": "markdown",
   "metadata": {},
   "source": [
    "Print the first few rows of the dataframe. "
   ]
  },
  {
   "cell_type": "code",
   "execution_count": 27,
   "metadata": {
    "collapsed": false
   },
   "outputs": [
    {
     "data": {
      "text/html": [
       "<div>\n",
       "<table border=\"1\" class=\"dataframe\">\n",
       "  <thead>\n",
       "    <tr style=\"text-align: right;\">\n",
       "      <th></th>\n",
       "      <th>Action</th>\n",
       "      <th>Adventure</th>\n",
       "      <th>Animation</th>\n",
       "      <th>Biography</th>\n",
       "      <th>Comedy</th>\n",
       "      <th>Crime</th>\n",
       "      <th>Documentary</th>\n",
       "      <th>Drama</th>\n",
       "      <th>Family</th>\n",
       "      <th>Fantasy</th>\n",
       "      <th>France</th>\n",
       "      <th>Germany</th>\n",
       "      <th>History</th>\n",
       "      <th>Horror</th>\n",
       "      <th>Italy</th>\n",
       "      <th>Music</th>\n",
       "      <th>Musical</th>\n",
       "      <th>Mystery</th>\n",
       "      <th>News</th>\n",
       "      <th>Nominated Best Actor</th>\n",
       "      <th>Nominated Best Actress</th>\n",
       "      <th>Nominated Best Animated Feature Film</th>\n",
       "      <th>Nominated Best Art Direction</th>\n",
       "      <th>Nominated Best Cinematography</th>\n",
       "      <th>Nominated Best Costume Design</th>\n",
       "      <th>Nominated Best Director</th>\n",
       "      <th>Nominated Best Documentary, Feature</th>\n",
       "      <th>Nominated Best Documentary, Short Subject</th>\n",
       "      <th>Nominated Best Film Editing</th>\n",
       "      <th>Nominated Best Foreign Language Film</th>\n",
       "      <th>Nominated Best Makeup</th>\n",
       "      <th>Nominated Best Music, Adaptation / Original Song Score</th>\n",
       "      <th>Nominated Best Music, Dramatic Score</th>\n",
       "      <th>Nominated Best Music, Musical or Comedy Score</th>\n",
       "      <th>Nominated Best Music, Original Score</th>\n",
       "      <th>Nominated Best Music, Song</th>\n",
       "      <th>Nominated Best Picture</th>\n",
       "      <th>Nominated Best Short Film, Animated</th>\n",
       "      <th>Nominated Best Short Film, Live Action</th>\n",
       "      <th>Nominated Best Sound</th>\n",
       "      <th>Nominated Best Sound Editing</th>\n",
       "      <th>Nominated Best Sound Effects Editing</th>\n",
       "      <th>Nominated Best Sound Mixing</th>\n",
       "      <th>Nominated Best Supporting Actor</th>\n",
       "      <th>Nominated Best Supporting Actress</th>\n",
       "      <th>Nominated Best Visual Effects</th>\n",
       "      <th>Nominated Best Writing, Adapted Screenplay</th>\n",
       "      <th>Nominated Best Writing, Original Screenplay</th>\n",
       "      <th>Nominated Special Achievement Award</th>\n",
       "      <th>OtherCountry/Unknown</th>\n",
       "      <th>Romance</th>\n",
       "      <th>Sci-Fi</th>\n",
       "      <th>Short</th>\n",
       "      <th>Spain</th>\n",
       "      <th>Sport</th>\n",
       "      <th>Thriller</th>\n",
       "      <th>USA</th>\n",
       "      <th>War</th>\n",
       "      <th>Western</th>\n",
       "      <th>based-on-novel</th>\n",
       "      <th>blockbuster</th>\n",
       "      <th>blood</th>\n",
       "      <th>character-name-in-title</th>\n",
       "      <th>cigarette-smoking</th>\n",
       "      <th>cult-film</th>\n",
       "      <th>dancing</th>\n",
       "      <th>death</th>\n",
       "      <th>family-relationships</th>\n",
       "      <th>father-daughter-relationship</th>\n",
       "      <th>father-son-relationship</th>\n",
       "      <th>female-nudity</th>\n",
       "      <th>flashback</th>\n",
       "      <th>friendship</th>\n",
       "      <th>husband-wife-relationship</th>\n",
       "      <th>independent-film</th>\n",
       "      <th>love</th>\n",
       "      <th>marriage</th>\n",
       "      <th>month</th>\n",
       "      <th>mother-daughter-relationship</th>\n",
       "      <th>mother-son-relationship</th>\n",
       "      <th>mpaaint</th>\n",
       "      <th>murder</th>\n",
       "      <th>numnominations</th>\n",
       "      <th>quarter</th>\n",
       "      <th>runtime</th>\n",
       "      <th>sex</th>\n",
       "      <th>singing</th>\n",
       "      <th>title-spoken-by-character</th>\n",
       "      <th>violence</th>\n",
       "      <th>winner</th>\n",
       "      <th>year</th>\n",
       "    </tr>\n",
       "  </thead>\n",
       "  <tbody>\n",
       "    <tr>\n",
       "      <th>0</th>\n",
       "      <td>0</td>\n",
       "      <td>0</td>\n",
       "      <td>0</td>\n",
       "      <td>0</td>\n",
       "      <td>1</td>\n",
       "      <td>0</td>\n",
       "      <td>0</td>\n",
       "      <td>0</td>\n",
       "      <td>0</td>\n",
       "      <td>1</td>\n",
       "      <td>0</td>\n",
       "      <td>0</td>\n",
       "      <td>0</td>\n",
       "      <td>0</td>\n",
       "      <td>0</td>\n",
       "      <td>0</td>\n",
       "      <td>0</td>\n",
       "      <td>0</td>\n",
       "      <td>0</td>\n",
       "      <td>False</td>\n",
       "      <td>False</td>\n",
       "      <td>False</td>\n",
       "      <td>False</td>\n",
       "      <td>False</td>\n",
       "      <td>False</td>\n",
       "      <td>False</td>\n",
       "      <td>False</td>\n",
       "      <td>False</td>\n",
       "      <td>False</td>\n",
       "      <td>False</td>\n",
       "      <td>False</td>\n",
       "      <td>False</td>\n",
       "      <td>False</td>\n",
       "      <td>False</td>\n",
       "      <td>False</td>\n",
       "      <td>\"Until\": Sting (Music &amp; Lyric)</td>\n",
       "      <td>False</td>\n",
       "      <td>False</td>\n",
       "      <td>False</td>\n",
       "      <td>False</td>\n",
       "      <td>False</td>\n",
       "      <td>False</td>\n",
       "      <td>False</td>\n",
       "      <td>False</td>\n",
       "      <td>False</td>\n",
       "      <td>False</td>\n",
       "      <td>False</td>\n",
       "      <td>False</td>\n",
       "      <td>False</td>\n",
       "      <td>0</td>\n",
       "      <td>1</td>\n",
       "      <td>0</td>\n",
       "      <td>0</td>\n",
       "      <td>0</td>\n",
       "      <td>0</td>\n",
       "      <td>0</td>\n",
       "      <td>1</td>\n",
       "      <td>0</td>\n",
       "      <td>0</td>\n",
       "      <td>0</td>\n",
       "      <td>0</td>\n",
       "      <td>0</td>\n",
       "      <td>1</td>\n",
       "      <td>1</td>\n",
       "      <td>0</td>\n",
       "      <td>1</td>\n",
       "      <td>0</td>\n",
       "      <td>0</td>\n",
       "      <td>0</td>\n",
       "      <td>0</td>\n",
       "      <td>0</td>\n",
       "      <td>0</td>\n",
       "      <td>0</td>\n",
       "      <td>0</td>\n",
       "      <td>0</td>\n",
       "      <td>1</td>\n",
       "      <td>0</td>\n",
       "      <td>12</td>\n",
       "      <td>0</td>\n",
       "      <td>0</td>\n",
       "      <td>2</td>\n",
       "      <td>0</td>\n",
       "      <td>1</td>\n",
       "      <td>4</td>\n",
       "      <td>118</td>\n",
       "      <td>0</td>\n",
       "      <td>0</td>\n",
       "      <td>0</td>\n",
       "      <td>0</td>\n",
       "      <td>0</td>\n",
       "      <td>2001</td>\n",
       "    </tr>\n",
       "    <tr>\n",
       "      <th>1</th>\n",
       "      <td>0</td>\n",
       "      <td>0</td>\n",
       "      <td>0</td>\n",
       "      <td>0</td>\n",
       "      <td>0</td>\n",
       "      <td>1</td>\n",
       "      <td>0</td>\n",
       "      <td>1</td>\n",
       "      <td>0</td>\n",
       "      <td>0</td>\n",
       "      <td>0</td>\n",
       "      <td>0</td>\n",
       "      <td>0</td>\n",
       "      <td>0</td>\n",
       "      <td>0</td>\n",
       "      <td>0</td>\n",
       "      <td>0</td>\n",
       "      <td>0</td>\n",
       "      <td>0</td>\n",
       "      <td>Burt Lancaster</td>\n",
       "      <td>Susan Sarandon</td>\n",
       "      <td>False</td>\n",
       "      <td>False</td>\n",
       "      <td>False</td>\n",
       "      <td>False</td>\n",
       "      <td>Louis Malle</td>\n",
       "      <td>False</td>\n",
       "      <td>False</td>\n",
       "      <td>False</td>\n",
       "      <td>False</td>\n",
       "      <td>False</td>\n",
       "      <td>False</td>\n",
       "      <td>False</td>\n",
       "      <td>False</td>\n",
       "      <td>False</td>\n",
       "      <td>False</td>\n",
       "      <td>Denis Heroux, John Kemeny (Producers)</td>\n",
       "      <td>False</td>\n",
       "      <td>False</td>\n",
       "      <td>False</td>\n",
       "      <td>False</td>\n",
       "      <td>False</td>\n",
       "      <td>False</td>\n",
       "      <td>False</td>\n",
       "      <td>False</td>\n",
       "      <td>False</td>\n",
       "      <td>False</td>\n",
       "      <td>John Guare</td>\n",
       "      <td>False</td>\n",
       "      <td>0</td>\n",
       "      <td>1</td>\n",
       "      <td>0</td>\n",
       "      <td>0</td>\n",
       "      <td>0</td>\n",
       "      <td>0</td>\n",
       "      <td>0</td>\n",
       "      <td>1</td>\n",
       "      <td>0</td>\n",
       "      <td>0</td>\n",
       "      <td>0</td>\n",
       "      <td>0</td>\n",
       "      <td>0</td>\n",
       "      <td>0</td>\n",
       "      <td>0</td>\n",
       "      <td>0</td>\n",
       "      <td>0</td>\n",
       "      <td>0</td>\n",
       "      <td>0</td>\n",
       "      <td>0</td>\n",
       "      <td>0</td>\n",
       "      <td>0</td>\n",
       "      <td>0</td>\n",
       "      <td>0</td>\n",
       "      <td>1</td>\n",
       "      <td>0</td>\n",
       "      <td>0</td>\n",
       "      <td>0</td>\n",
       "      <td>4</td>\n",
       "      <td>0</td>\n",
       "      <td>0</td>\n",
       "      <td>0</td>\n",
       "      <td>1</td>\n",
       "      <td>5</td>\n",
       "      <td>2</td>\n",
       "      <td>104</td>\n",
       "      <td>0</td>\n",
       "      <td>0</td>\n",
       "      <td>1</td>\n",
       "      <td>0</td>\n",
       "      <td>0</td>\n",
       "      <td>1981</td>\n",
       "    </tr>\n",
       "    <tr>\n",
       "      <th>2</th>\n",
       "      <td>0</td>\n",
       "      <td>0</td>\n",
       "      <td>0</td>\n",
       "      <td>0</td>\n",
       "      <td>0</td>\n",
       "      <td>0</td>\n",
       "      <td>0</td>\n",
       "      <td>0</td>\n",
       "      <td>0</td>\n",
       "      <td>0</td>\n",
       "      <td>0</td>\n",
       "      <td>0</td>\n",
       "      <td>0</td>\n",
       "      <td>0</td>\n",
       "      <td>0</td>\n",
       "      <td>0</td>\n",
       "      <td>0</td>\n",
       "      <td>0</td>\n",
       "      <td>0</td>\n",
       "      <td>False</td>\n",
       "      <td>False</td>\n",
       "      <td>False</td>\n",
       "      <td>Tambi Larsen (Art Direction); Jim Berkey (Set ...</td>\n",
       "      <td>False</td>\n",
       "      <td>False</td>\n",
       "      <td>False</td>\n",
       "      <td>False</td>\n",
       "      <td>False</td>\n",
       "      <td>False</td>\n",
       "      <td>False</td>\n",
       "      <td>False</td>\n",
       "      <td>False</td>\n",
       "      <td>False</td>\n",
       "      <td>False</td>\n",
       "      <td>False</td>\n",
       "      <td>False</td>\n",
       "      <td>False</td>\n",
       "      <td>False</td>\n",
       "      <td>False</td>\n",
       "      <td>False</td>\n",
       "      <td>False</td>\n",
       "      <td>False</td>\n",
       "      <td>False</td>\n",
       "      <td>False</td>\n",
       "      <td>False</td>\n",
       "      <td>False</td>\n",
       "      <td>False</td>\n",
       "      <td>False</td>\n",
       "      <td>False</td>\n",
       "      <td>0</td>\n",
       "      <td>0</td>\n",
       "      <td>0</td>\n",
       "      <td>0</td>\n",
       "      <td>0</td>\n",
       "      <td>0</td>\n",
       "      <td>0</td>\n",
       "      <td>1</td>\n",
       "      <td>0</td>\n",
       "      <td>1</td>\n",
       "      <td>0</td>\n",
       "      <td>0</td>\n",
       "      <td>1</td>\n",
       "      <td>0</td>\n",
       "      <td>0</td>\n",
       "      <td>1</td>\n",
       "      <td>0</td>\n",
       "      <td>0</td>\n",
       "      <td>0</td>\n",
       "      <td>0</td>\n",
       "      <td>0</td>\n",
       "      <td>1</td>\n",
       "      <td>0</td>\n",
       "      <td>0</td>\n",
       "      <td>0</td>\n",
       "      <td>0</td>\n",
       "      <td>1</td>\n",
       "      <td>0</td>\n",
       "      <td>11</td>\n",
       "      <td>0</td>\n",
       "      <td>0</td>\n",
       "      <td>0</td>\n",
       "      <td>1</td>\n",
       "      <td>1</td>\n",
       "      <td>4</td>\n",
       "      <td>149</td>\n",
       "      <td>0</td>\n",
       "      <td>0</td>\n",
       "      <td>0</td>\n",
       "      <td>1</td>\n",
       "      <td>0</td>\n",
       "      <td>1981</td>\n",
       "    </tr>\n",
       "    <tr>\n",
       "      <th>3</th>\n",
       "      <td>0</td>\n",
       "      <td>0</td>\n",
       "      <td>0</td>\n",
       "      <td>0</td>\n",
       "      <td>0</td>\n",
       "      <td>0</td>\n",
       "      <td>0</td>\n",
       "      <td>1</td>\n",
       "      <td>0</td>\n",
       "      <td>0</td>\n",
       "      <td>0</td>\n",
       "      <td>0</td>\n",
       "      <td>0</td>\n",
       "      <td>0</td>\n",
       "      <td>0</td>\n",
       "      <td>0</td>\n",
       "      <td>0</td>\n",
       "      <td>0</td>\n",
       "      <td>0</td>\n",
       "      <td>Paul Newman</td>\n",
       "      <td>False</td>\n",
       "      <td>False</td>\n",
       "      <td>False</td>\n",
       "      <td>False</td>\n",
       "      <td>False</td>\n",
       "      <td>False</td>\n",
       "      <td>False</td>\n",
       "      <td>False</td>\n",
       "      <td>False</td>\n",
       "      <td>False</td>\n",
       "      <td>False</td>\n",
       "      <td>False</td>\n",
       "      <td>False</td>\n",
       "      <td>False</td>\n",
       "      <td>False</td>\n",
       "      <td>False</td>\n",
       "      <td>False</td>\n",
       "      <td>False</td>\n",
       "      <td>False</td>\n",
       "      <td>False</td>\n",
       "      <td>False</td>\n",
       "      <td>False</td>\n",
       "      <td>False</td>\n",
       "      <td>False</td>\n",
       "      <td>Melinda Dillon</td>\n",
       "      <td>False</td>\n",
       "      <td>False</td>\n",
       "      <td>Kurt Luedtke</td>\n",
       "      <td>False</td>\n",
       "      <td>0</td>\n",
       "      <td>1</td>\n",
       "      <td>0</td>\n",
       "      <td>0</td>\n",
       "      <td>0</td>\n",
       "      <td>0</td>\n",
       "      <td>1</td>\n",
       "      <td>1</td>\n",
       "      <td>0</td>\n",
       "      <td>0</td>\n",
       "      <td>0</td>\n",
       "      <td>0</td>\n",
       "      <td>0</td>\n",
       "      <td>0</td>\n",
       "      <td>1</td>\n",
       "      <td>0</td>\n",
       "      <td>0</td>\n",
       "      <td>0</td>\n",
       "      <td>0</td>\n",
       "      <td>0</td>\n",
       "      <td>0</td>\n",
       "      <td>0</td>\n",
       "      <td>0</td>\n",
       "      <td>0</td>\n",
       "      <td>0</td>\n",
       "      <td>0</td>\n",
       "      <td>0</td>\n",
       "      <td>0</td>\n",
       "      <td>11</td>\n",
       "      <td>0</td>\n",
       "      <td>0</td>\n",
       "      <td>0</td>\n",
       "      <td>1</td>\n",
       "      <td>3</td>\n",
       "      <td>4</td>\n",
       "      <td>116</td>\n",
       "      <td>0</td>\n",
       "      <td>0</td>\n",
       "      <td>1</td>\n",
       "      <td>0</td>\n",
       "      <td>0</td>\n",
       "      <td>1981</td>\n",
       "    </tr>\n",
       "    <tr>\n",
       "      <th>4</th>\n",
       "      <td>0</td>\n",
       "      <td>0</td>\n",
       "      <td>0</td>\n",
       "      <td>0</td>\n",
       "      <td>0</td>\n",
       "      <td>0</td>\n",
       "      <td>1</td>\n",
       "      <td>0</td>\n",
       "      <td>0</td>\n",
       "      <td>0</td>\n",
       "      <td>0</td>\n",
       "      <td>0</td>\n",
       "      <td>0</td>\n",
       "      <td>0</td>\n",
       "      <td>0</td>\n",
       "      <td>0</td>\n",
       "      <td>0</td>\n",
       "      <td>0</td>\n",
       "      <td>0</td>\n",
       "      <td>False</td>\n",
       "      <td>False</td>\n",
       "      <td>False</td>\n",
       "      <td>False</td>\n",
       "      <td>False</td>\n",
       "      <td>False</td>\n",
       "      <td>False</td>\n",
       "      <td>Suzanne Bauman, Paul Neshamkin, Jim Burroughs ...</td>\n",
       "      <td>False</td>\n",
       "      <td>False</td>\n",
       "      <td>False</td>\n",
       "      <td>False</td>\n",
       "      <td>False</td>\n",
       "      <td>False</td>\n",
       "      <td>False</td>\n",
       "      <td>False</td>\n",
       "      <td>False</td>\n",
       "      <td>False</td>\n",
       "      <td>False</td>\n",
       "      <td>False</td>\n",
       "      <td>False</td>\n",
       "      <td>False</td>\n",
       "      <td>False</td>\n",
       "      <td>False</td>\n",
       "      <td>False</td>\n",
       "      <td>False</td>\n",
       "      <td>False</td>\n",
       "      <td>False</td>\n",
       "      <td>False</td>\n",
       "      <td>False</td>\n",
       "      <td>0</td>\n",
       "      <td>0</td>\n",
       "      <td>0</td>\n",
       "      <td>0</td>\n",
       "      <td>0</td>\n",
       "      <td>0</td>\n",
       "      <td>0</td>\n",
       "      <td>1</td>\n",
       "      <td>0</td>\n",
       "      <td>0</td>\n",
       "      <td>0</td>\n",
       "      <td>0</td>\n",
       "      <td>0</td>\n",
       "      <td>0</td>\n",
       "      <td>0</td>\n",
       "      <td>0</td>\n",
       "      <td>0</td>\n",
       "      <td>0</td>\n",
       "      <td>0</td>\n",
       "      <td>0</td>\n",
       "      <td>0</td>\n",
       "      <td>0</td>\n",
       "      <td>0</td>\n",
       "      <td>0</td>\n",
       "      <td>0</td>\n",
       "      <td>0</td>\n",
       "      <td>0</td>\n",
       "      <td>0</td>\n",
       "      <td>0</td>\n",
       "      <td>0</td>\n",
       "      <td>0</td>\n",
       "      <td>0</td>\n",
       "      <td>0</td>\n",
       "      <td>1</td>\n",
       "      <td>0</td>\n",
       "      <td>60</td>\n",
       "      <td>0</td>\n",
       "      <td>0</td>\n",
       "      <td>0</td>\n",
       "      <td>0</td>\n",
       "      <td>0</td>\n",
       "      <td>1981</td>\n",
       "    </tr>\n",
       "  </tbody>\n",
       "</table>\n",
       "</div>"
      ],
      "text/plain": [
       "  Action Adventure Animation Biography Comedy Crime Documentary Drama Family Fantasy France Germany History Horror Italy Music Musical Mystery News Nominated Best Actor Nominated Best Actress Nominated Best Animated Feature Film                       Nominated Best Art Direction Nominated Best Cinematography Nominated Best Costume Design Nominated Best Director                Nominated Best Documentary, Feature Nominated Best Documentary, Short Subject Nominated Best Film Editing  \\\n",
       "0      0         0         0         0      1     0           0     0      0       1      0       0       0      0     0     0       0       0    0                False                  False                                False                                              False                         False                         False                   False                                              False                                     False                       False   \n",
       "1      0         0         0         0      0     1           0     1      0       0      0       0       0      0     0     0       0       0    0       Burt Lancaster         Susan Sarandon                                False                                              False                         False                         False             Louis Malle                                              False                                     False                       False   \n",
       "2      0         0         0         0      0     0           0     0      0       0      0       0       0      0     0     0       0       0    0                False                  False                                False  Tambi Larsen (Art Direction); Jim Berkey (Set ...                         False                         False                   False                                              False                                     False                       False   \n",
       "3      0         0         0         0      0     0           0     1      0       0      0       0       0      0     0     0       0       0    0          Paul Newman                  False                                False                                              False                         False                         False                   False                                              False                                     False                       False   \n",
       "4      0         0         0         0      0     0           1     0      0       0      0       0       0      0     0     0       0       0    0                False                  False                                False                                              False                         False                         False                   False  Suzanne Bauman, Paul Neshamkin, Jim Burroughs ...                                     False                       False   \n",
       "\n",
       "  Nominated Best Foreign Language Film Nominated Best Makeup Nominated Best Music, Adaptation / Original Song Score Nominated Best Music, Dramatic Score Nominated Best Music, Musical or Comedy Score Nominated Best Music, Original Score      Nominated Best Music, Song                 Nominated Best Picture Nominated Best Short Film, Animated Nominated Best Short Film, Live Action Nominated Best Sound Nominated Best Sound Editing Nominated Best Sound Effects Editing Nominated Best Sound Mixing  \\\n",
       "0                                False                 False                                              False                                    False                                         False                                False  \"Until\": Sting (Music & Lyric)                                  False                               False                                  False                False                        False                                False                       False   \n",
       "1                                False                 False                                              False                                    False                                         False                                False                           False  Denis Heroux, John Kemeny (Producers)                               False                                  False                False                        False                                False                       False   \n",
       "2                                False                 False                                              False                                    False                                         False                                False                           False                                  False                               False                                  False                False                        False                                False                       False   \n",
       "3                                False                 False                                              False                                    False                                         False                                False                           False                                  False                               False                                  False                False                        False                                False                       False   \n",
       "4                                False                 False                                              False                                    False                                         False                                False                           False                                  False                               False                                  False                False                        False                                False                       False   \n",
       "\n",
       "  Nominated Best Supporting Actor Nominated Best Supporting Actress Nominated Best Visual Effects Nominated Best Writing, Adapted Screenplay Nominated Best Writing, Original Screenplay Nominated Special Achievement Award OtherCountry/Unknown Romance Sci-Fi Short Spain Sport Thriller USA War Western based-on-novel blockbuster blood character-name-in-title cigarette-smoking cult-film dancing death family-relationships father-daughter-relationship father-son-relationship female-nudity flashback  \\\n",
       "0                           False                             False                         False                                      False                                       False                               False                    0       1      0     0     0     0        0   1   0       0              0           0     0                       1                 1         0       1     0                    0                            0                       0             0         0   \n",
       "1                           False                             False                         False                                      False                                  John Guare                               False                    0       1      0     0     0     0        0   1   0       0              0           0     0                       0                 0         0       0     0                    0                            0                       0             0         0   \n",
       "2                           False                             False                         False                                      False                                       False                               False                    0       0      0     0     0     0        0   1   0       1              0           0     1                       0                 0         1       0     0                    0                            0                       0             1         0   \n",
       "3                           False                    Melinda Dillon                         False                                      False                                Kurt Luedtke                               False                    0       1      0     0     0     0        1   1   0       0              0           0     0                       0                 1         0       0     0                    0                            0                       0             0         0   \n",
       "4                           False                             False                         False                                      False                                       False                               False                    0       0      0     0     0     0        0   1   0       0              0           0     0                       0                 0         0       0     0                    0                            0                       0             0         0   \n",
       "\n",
       "  friendship husband-wife-relationship independent-film love marriage month mother-daughter-relationship mother-son-relationship mpaaint murder numnominations quarter runtime sex singing title-spoken-by-character violence winner  year  \n",
       "0          0                         0                0    1        0    12                            0                       0       2      0              1       4     118   0       0                         0        0      0  2001  \n",
       "1          0                         1                0    0        0     4                            0                       0       0      1              5       2     104   0       0                         1        0      0  1981  \n",
       "2          0                         0                0    1        0    11                            0                       0       0      1              1       4     149   0       0                         0        1      0  1981  \n",
       "3          0                         0                0    0        0    11                            0                       0       0      1              3       4     116   0       0                         1        0      0  1981  \n",
       "4          0                         0                0    0        0     0                            0                       0       0      0              1       0      60   0       0                         0        0      0  1981  "
      ]
     },
     "execution_count": 27,
     "metadata": {},
     "output_type": "execute_result"
    }
   ],
   "source": [
    "# your code here \n",
    "AAdf.head()"
   ]
  },
  {
   "cell_type": "markdown",
   "metadata": {},
   "source": [
    "What shape is the dataframe? "
   ]
  },
  {
   "cell_type": "code",
   "execution_count": 28,
   "metadata": {
    "collapsed": false
   },
   "outputs": [
    {
     "name": "stdout",
     "output_type": "stream",
     "text": [
      "(1364, 91)\n"
     ]
    }
   ],
   "source": [
    "# your code here\n",
    "print(AAdf.shape)"
   ]
  },
  {
   "cell_type": "markdown",
   "metadata": {},
   "source": [
    "Print all of the dataframe's column headers. "
   ]
  },
  {
   "cell_type": "code",
   "execution_count": 29,
   "metadata": {
    "collapsed": false
   },
   "outputs": [
    {
     "data": {
      "text/plain": [
       "Index([                                                u'Action',                                              u'Adventure',                                              u'Animation',                                              u'Biography',                                                 u'Comedy',                                                  u'Crime',                                            u'Documentary',                                                  u'Drama',\n",
       "                                                       u'Family',                                                u'Fantasy',                                                 u'France',                                                u'Germany',                                                u'History',                                                 u'Horror',                                                  u'Italy',                                                  u'Music',\n",
       "                                                      u'Musical',                                                u'Mystery',                                                   u'News',                                   u'Nominated Best Actor',                                 u'Nominated Best Actress',                   u'Nominated Best Animated Feature Film',                           u'Nominated Best Art Direction',                          u'Nominated Best Cinematography',\n",
       "                                u'Nominated Best Costume Design',                                u'Nominated Best Director',                    u'Nominated Best Documentary, Feature',              u'Nominated Best Documentary, Short Subject',                            u'Nominated Best Film Editing',                   u'Nominated Best Foreign Language Film',                                  u'Nominated Best Makeup', u'Nominated Best Music, Adaptation / Original Song Score',\n",
       "                         u'Nominated Best Music, Dramatic Score',          u'Nominated Best Music, Musical or Comedy Score',                   u'Nominated Best Music, Original Score',                             u'Nominated Best Music, Song',                                 u'Nominated Best Picture',                    u'Nominated Best Short Film, Animated',                 u'Nominated Best Short Film, Live Action',                                   u'Nominated Best Sound',\n",
       "                                 u'Nominated Best Sound Editing',                   u'Nominated Best Sound Effects Editing',                            u'Nominated Best Sound Mixing',                        u'Nominated Best Supporting Actor',                      u'Nominated Best Supporting Actress',                          u'Nominated Best Visual Effects',             u'Nominated Best Writing, Adapted Screenplay',            u'Nominated Best Writing, Original Screenplay',\n",
       "                          u'Nominated Special Achievement Award',                                   u'OtherCountry/Unknown',                                                u'Romance',                                                 u'Sci-Fi',                                                  u'Short',                                                  u'Spain',                                                  u'Sport',                                               u'Thriller',\n",
       "                                                          u'USA',                                                    u'War',                                                u'Western',                                         u'based-on-novel',                                            u'blockbuster',                                                  u'blood',                                u'character-name-in-title',                                      u'cigarette-smoking',\n",
       "                                                    u'cult-film',                                                u'dancing',                                                  u'death',                                   u'family-relationships',                           u'father-daughter-relationship',                                u'father-son-relationship',                                          u'female-nudity',                                              u'flashback',\n",
       "                                                   u'friendship',                              u'husband-wife-relationship',                                       u'independent-film',                                                   u'love',                                               u'marriage',                                                  u'month',                           u'mother-daughter-relationship',                                u'mother-son-relationship',\n",
       "                                                      u'mpaaint',                                                 u'murder',                                         u'numnominations',                                                u'quarter',                                                u'runtime',                                                    u'sex',                                                u'singing',                              u'title-spoken-by-character',\n",
       "                                                     u'violence',                                                 u'winner',                                                   u'year'],\n",
       "      dtype='object')"
      ]
     },
     "execution_count": 29,
     "metadata": {},
     "output_type": "execute_result"
    }
   ],
   "source": [
    "# your code here\n",
    "AAdf.columns"
   ]
  },
  {
   "cell_type": "markdown",
   "metadata": {},
   "source": [
    "You might notice that some of these variables are *continuous* while some are *categorical*. It can be helpful to look at these separately, so we make lists of indices, so that we can access these separately. "
   ]
  },
  {
   "cell_type": "code",
   "execution_count": 30,
   "metadata": {
    "collapsed": true
   },
   "outputs": [],
   "source": [
    "# write selectors for categorical or continuous variables\n",
    "CONTINUOUS = set(['month','mpaaint','numnominations','quarter','runtime'])\n",
    "\n",
    "CATEGORICAL = set(list(AAdf.columns)) - set(CONTINUOUS)\n",
    "CATEGORICAL.remove(u'winner')\n",
    "CATEGORICAL.remove('year')"
   ]
  },
  {
   "cell_type": "markdown",
   "metadata": {},
   "source": [
    "Now, we will use exploratory data analysis to answer a few questions: \n",
    "    \n",
    "1. Do some countries tend to win more Oscars? \n",
    "2. What is the frequency of the top keywords among Oscar winners?\n",
    "3. What genres tend to win Oscars?\n",
    "4. In what month do Oscar Winning movies tend to be released? \n",
    "\n",
    "To do this, we start by making a list of the genres, countries, and keywords in our dataset. "
   ]
  },
  {
   "cell_type": "code",
   "execution_count": 21,
   "metadata": {
    "collapsed": false
   },
   "outputs": [
    {
     "name": "stdout",
     "output_type": "stream",
     "text": [
      "CPU times: user 2min 39s, sys: 1.2 s, total: 2min 41s\n",
      "Wall time: 2min 43s\n"
     ]
    }
   ],
   "source": [
    "%%time\n",
    "# Get list of unique countries, genres, keywords\n",
    "# Will be used to create barcharts\n",
    "genreslist = set()\n",
    "countries_dict = {}\n",
    "keywords_dict = {}\n",
    "for _,movie in AAdf_complete.iterrows():\n",
    "    for genre in movie.genres:\n",
    "        genreslist.add(genre)\n",
    "    if type(movie.countrylist) == list:\n",
    "        for country in movie.countrylist:\n",
    "            if country in countries_dict.keys():\n",
    "                countries_dict[str(country)] += 1\n",
    "            else:\n",
    "                countries_dict[str(country)] = 1\n",
    "    if type(movie.keywords) == list:\n",
    "        for keyword in movie.keywords:\n",
    "            if keyword in keywords_dict.keys():\n",
    "                keywords_dict[keyword] += 1\n",
    "            else:\n",
    "                keywords_dict[keyword] = 1\n",
    "genreslist.remove('Talk-Show')\n",
    "\n",
    "# shorten countries and keywords dictionary to only \n",
    "# most common keywords to reduce dimensionality\n",
    "numother = 0\n",
    "for country in countries_dict.keys():\n",
    "    if countries_dict[country] <= 10:\n",
    "        numother = numother + countries_dict[country]\n",
    "        del countries_dict[country]\n",
    "countries_dict['OtherCountry/Unknown'] = numother\n",
    "for keyword in keywords_dict.keys():\n",
    "    if keywords_dict[keyword] <= 200:\n",
    "        del keywords_dict[keyword]"
   ]
  },
  {
   "cell_type": "code",
   "execution_count": 23,
   "metadata": {
    "collapsed": true
   },
   "outputs": [],
   "source": [
    "genres_list = pickle.load(io.open('genres_list.p', 'rb'))\n",
    "keywords_dict = pickle.load(io.open('keywords_dict.p', 'rb'))\n",
    "countries_dict = pickle.load(io.open('countries_dict.p', 'rb'))"
   ]
  },
  {
   "cell_type": "markdown",
   "metadata": {
    "collapsed": true
   },
   "source": [
    "### Countries with the most winners per nominee \n",
    "\n",
    "Do some countries win Oscars more often than others? To find out, we get the "
   ]
  },
  {
   "cell_type": "code",
   "execution_count": 31,
   "metadata": {
    "collapsed": true
   },
   "outputs": [],
   "source": [
    "# Create dictionary of countries ratio (winner/total)\n",
    "countries_dict_ratio = {}\n",
    "countries_dict_ratiosd = {}\n",
    "for country in countries_dict.keys():\n",
    "    countries_dict_ratio[country] = sum(AAdf[AAdf['winner']==1][country]) / float(countries_dict[country])\n",
    "    \n",
    "    countries_dict_ratiosd[country] = np.sqrt((countries_dict_ratio[country] * (1 - countries_dict_ratio[country])) / countries_dict[country])\n",
    "\n",
    "    # Sort countries in order by ratio\n",
    "sorted_countries = sorted(countries_dict_ratio.items(), key=operator.itemgetter(1))\n",
    "\n",
    "xerr = []\n",
    "for key in sorted_countries:\n",
    "    xerr.append(countries_dict_ratiosd[key[0]])"
   ]
  },
  {
   "cell_type": "code",
   "execution_count": 32,
   "metadata": {
    "collapsed": false
   },
   "outputs": [
    {
     "name": "stderr",
     "output_type": "stream",
     "text": [
      "//anaconda/lib/python2.7/site-packages/matplotlib/axes/_axes.py:545: UserWarning: No labelled objects found. Use label='...' kwarg on individual plots.\n",
      "  warnings.warn(\"No labelled objects found. \"\n"
     ]
    },
    {
     "data": {
      "image/png": "[encoded data removed]",
      "text/plain": [
       "<matplotlib.figure.Figure at 0x119557a50>"
      ]
     },
     "metadata": {},
     "output_type": "display_data"
    }
   ],
   "source": [
    "# Make your your plot beautiful!\n",
    "loc1 = [0.5,1.5,2.5,3.5,4.5,5.5]\n",
    "fig, ax = plt.subplots()\n",
    "ax.barh(bottom=loc1,width=zip(*sorted_countries)[1],height=0.5, color='g', alpha = .6, align='center', xerr=xerr)\n",
    "ax.set_ylim(0,6)\n",
    "ax.set_yticks(loc1)\n",
    "ax.set_yticklabels(zip(*sorted_countries)[0], size=20)\n",
    "ax.set_title('Countries Associated with Oscar Winning Movies')\n",
    "ax.set_xlabel(\"Relative Importance of Country (Ratio of Winners/Nominated)\")\n",
    "ax.yaxis.grid(False)\n",
    "ax.legend()\n",
    "plt.show()"
   ]
  },
  {
   "cell_type": "markdown",
   "metadata": {},
   "source": [
    "** What did you learn from this plot?** "
   ]
  },
  {
   "cell_type": "markdown",
   "metadata": {},
   "source": [
    "*your answer here*"
   ]
  },
  {
   "cell_type": "markdown",
   "metadata": {},
   "source": [
    "### What are the most poweful plot elements? \n",
    "\n",
    "Do epic war battles win Oscars? Does there need to be a dramatic romance? With this plot, we will try to learn more about what the most common plot elements are in films that win academy awards. \n",
    "\n",
    "Hint: To do this, you can follow a similar pattern to what we did in the last example. "
   ]
  },
  {
   "cell_type": "code",
   "execution_count": 39,
   "metadata": {
    "collapsed": true
   },
   "outputs": [],
   "source": [
    "# Your code here \n",
    "keywords_dict_ratio = {}\n",
    "keywords_dict_ratiosd = {}\n",
    "\n",
    "for keyword in keywords_dict.keys():\n",
    "    keywords_dict_ratio[keyword] = sum(AAdf[AAdf['winner']==1][keyword]) / float(keywords_dict[keyword])\n",
    "    keywords_dict_ratiosd[keyword] = np.sqrt((keywords_dict_ratio[keyword] * (1 - keywords_dict_ratio[keyword])) / keywords_dict[keyword])\n",
    "\n",
    "# sort the movie by ratio\n",
    "sorted_keywords = sorted(keywords_dict_ratio.items(), key=operator.itemgetter(1))\n",
    "\n",
    "# calculate error \n",
    "xerr = []\n",
    "for key in sorted_keywords:\n",
    "    xerr.append(keywords_dict_ratiosd[key[0]])"
   ]
  },
  {
   "cell_type": "code",
   "execution_count": 40,
   "metadata": {
    "collapsed": false
   },
   "outputs": [
    {
     "data": {
      "image/png": "[encoded data removed]",
      "text/plain": [
       "<matplotlib.figure.Figure at 0x119563c90>"
      ]
     },
     "metadata": {},
     "output_type": "display_data"
    }
   ],
   "source": [
    "# make your plot beautiful! \n",
    "loc1 = range(len(sorted_keywords))\n",
    "fig, ax = plt.subplots()\n",
    "ax.barh(loc1,zip(*sorted_keywords)[1], 0.35, color='g', label='loser', alpha = .6, align=\"center\",xerr=xerr)\n",
    "ax.set_ylim(-0.5,24.5)\n",
    "ax.set_yticks(np.arange(len(zip(*sorted_keywords)[0])))\n",
    "ax.set_yticklabels(zip(*sorted_keywords)[0], size=13)\n",
    "ax.set_title(\"Keywords Associated with Oscar Winning Movies\")\n",
    "ax.set_xlabel(\"Relative Importance of Keyword (Ratio of Winners/Nominated)\")\n",
    "ax.yaxis.grid(False)\n",
    "plt.show()"
   ]
  },
  {
   "cell_type": "markdown",
   "metadata": {},
   "source": [
    "** What did you learn from this plot?** "
   ]
  },
  {
   "cell_type": "markdown",
   "metadata": {},
   "source": [
    "*your answer here*"
   ]
  },
  {
   "cell_type": "markdown",
   "metadata": {},
   "source": [
    "### Which genres are most common among Oscar winning movies? \n",
    "\n",
    "Does an Oscar winning movie need Drama? Romance? Crime? Comedy? In this section, we use a similar analysis to learn more about what genre Oscar winning films tend ot have. "
   ]
  },
  {
   "cell_type": "code",
   "execution_count": 41,
   "metadata": {
    "collapsed": true
   },
   "outputs": [],
   "source": [
    "# Your code here \n",
    "# Create dictionary of genre ratios (winner/total)\n",
    "genres_dict_ratio = {}\n",
    "genres_dict_ratiosd = {}\n",
    "for genre in genreslist:\n",
    "    genres_dict_ratio[genre] = sum(AAdf[AAdf['winner']==1][genre]) / float(sum(AAdf[genre]))\n",
    "    genres_dict_ratiosd[genre] = np.sqrt((genres_dict_ratio[genre] * (1 - genres_dict_ratio[genre])) / float(sum(dftouse[genre])))\n",
    "\n",
    "# sort the movie by ratio\n",
    "sorted_genres = sorted(genres_dict_ratio.items(), key=operator.itemgetter(1))\n",
    "\n",
    "# manage the error\n",
    "xerr = []\n",
    "for key in sorted_genres:\n",
    "    sd = genres_dict_ratiosd[key[0]]\n",
    "    if sd == 0:\n",
    "        sd = 1\n",
    "    xerr.append(sd)"
   ]
  },
  {
   "cell_type": "code",
   "execution_count": 38,
   "metadata": {
    "collapsed": false
   },
   "outputs": [
    {
     "data": {
      "image/png": "[encoded data removed]",
      "text/plain": [
       "<matplotlib.figure.Figure at 0x11aae4bd0>"
      ]
     },
     "metadata": {},
     "output_type": "display_data"
    }
   ],
   "source": [
    "loc1 = range(len(sorted_genres))\n",
    "fig, ax = plt.subplots()\n",
    "ax.barh(loc1,zip(*sorted_genres)[1], 0.35, color='g', label='loser', alpha = .6, align='center', xerr=xerr)\n",
    "ax.set_xlim(0,1)\n",
    "ax.set_ylim(-0.5,len(zip(*sorted_genres)[0]))\n",
    "ax.set_yticks(np.arange(len(zip(*sorted_genres)[0])))\n",
    "ax.set_yticklabels(zip(*sorted_genres)[0], size=13)\n",
    "ax.set_title(\"Genres Associated with Oscar Winning Movies\")\n",
    "ax.set_xlabel(\"Relative Importance of Genre (Ratio of Winners/Nominated)\")\n",
    "ax.yaxis.grid(False)\n",
    "plt.show()"
   ]
  },
  {
   "cell_type": "markdown",
   "metadata": {},
   "source": [
    "** What did you learn from this plot?** "
   ]
  },
  {
   "cell_type": "markdown",
   "metadata": {},
   "source": [
    "*your answer here*"
   ]
  },
  {
   "cell_type": "markdown",
   "metadata": {},
   "source": [
    "### When are Oscar winning movies most often released?\n",
    "\n",
    "To start off, let's find how many Oscar-nominated films are released each month. "
   ]
  },
  {
   "cell_type": "code",
   "execution_count": 51,
   "metadata": {
    "collapsed": false
   },
   "outputs": [],
   "source": [
    "month_name_dict = {0:'Unknown',1:'January',2:\"Feburary\",3:\"March\",4:\"April\",5:\"May\",6:\"June\",7:\"July\",8:\"August\",9:\"September\",10:\"October\",11:\"November\",12:\"December\"}\n",
    "month_dict = {}\n",
    "for month in range(13):\n",
    "    month_dict[month_name_dict[month]] = len(AAdf[(AAdf['month']==month)]) \n",
    "del month_dict['Unknown']\n",
    "    \n",
    "sorted_month_dict = sorted(month_dict.items(), key=operator.itemgetter(1))"
   ]
  },
  {
   "cell_type": "code",
   "execution_count": 52,
   "metadata": {
    "collapsed": false
   },
   "outputs": [
    {
     "data": {
      "image/png": "[encoded data removed]",
      "text/plain": [
       "<matplotlib.figure.Figure at 0x1198fe8d0>"
      ]
     },
     "metadata": {},
     "output_type": "display_data"
    }
   ],
   "source": [
    "loc1 = range(len(zip(*sorted_month_dict)[1]))\n",
    "loc2 = [.35, 1.35,2.35,3.35,4.35,5.35, 6.35, 7.35, 8.35, 9.35,10.35, 11.35]\n",
    "fig, ax = plt.subplots()\n",
    "ax.barh(loc1, zip(*sorted_month_dict)[1], 0.5, color='g', alpha = .6, align=\"center\")\n",
    "ax.set_ylim(-0.5,11.5)\n",
    "ax.set_yticks(np.arange(len(zip(*sorted_month_dict)[1])))\n",
    "ax.set_yticklabels(zip(*sorted_month_dict)[0], size=14)\n",
    "ax.set_title('Raw Number of Nominated Films By Month')\n",
    "ax.yaxis.grid(False)\n",
    "plt.show()"
   ]
  },
  {
   "cell_type": "markdown",
   "metadata": {},
   "source": [
    "** What did you learn from this plot?** "
   ]
  },
  {
   "cell_type": "markdown",
   "metadata": {},
   "source": [
    "*your answer here*"
   ]
  },
  {
   "cell_type": "markdown",
   "metadata": {},
   "source": [
    "# Regression \n",
    "\n",
    "Selecting an appropriate regression can be harder than it looks. \n",
    "\n",
    "<img src=\"https://imgs.xkcd.com/comics/linear_regression.png\"\n",
    "     alt=\"https://xkcd.com/1725/\"\n",
    "     style=\"align: center\"/>"
   ]
  },
  {
   "cell_type": "markdown",
   "metadata": {},
   "source": [
    "\n",
    "## Linear Regression\n",
    "\n",
    "- Outcome: Continuous \n",
    "- Error minimization: [Ordinary least squares](https://en.wikipedia.org/wiki/Ordinary_least_squares)\n",
    "- Large errors are penalized more \n",
    "- No regularization "
   ]
  },
  {
   "cell_type": "markdown",
   "metadata": {},
   "source": [
    "## Logistic Regression \n",
    "\n",
    "- Outcome: Binary \n",
    "- Error minimization: [Maximum likelihood](https://en.wikipedia.org/wiki/Maximum_likelihood_estimation) \n",
    "- All errors are penalized similarly \n",
    "- No regularization "
   ]
  },
  {
   "cell_type": "code",
   "execution_count": null,
   "metadata": {
    "collapsed": true
   },
   "outputs": [],
   "source": [
    "<img src=\"https://cdn-images-1.medium.com/max/1125/1*_7OPgojau8hkiPUiHoGK_w.png\"\n",
    "     alt=\"\"\n",
    "     style=\"float: left; margin-right: 100px;\"/>"
   ]
  },
  {
   "cell_type": "markdown",
   "metadata": {},
   "source": [
    "Sometimes you need to deal with problems like [overfitting](https://en.wikipedia.org/wiki/Overfitting), a symptom of high variance, and [underfitting](https://en.wikipedia.org/wiki/Overfitting#Underfitting), a sympton of high bias. \n",
    "\n",
    "\n",
    "<img src=\"https://cdn-images-1.medium.com/max/1125/1*_7OPgojau8hkiPUiHoGK_w.png\"\n",
    "     alt=\"\"\n",
    "     style=\"float: left; margin-right: 100px;\"/>\n"
   ]
  },
  {
   "cell_type": "markdown",
   "metadata": {},
   "source": []
  },
  {
   "cell_type": "markdown",
   "metadata": {},
   "source": [
    "## Regularization methods \n",
    "\n",
    "- Normalizes to prevent overfitting \n",
    "\n",
    "### Lasso \n",
    "- Error minimization: [Least Absolute Shrinkage & Selection Operator (Lasso)](https://en.wikipedia.org/wiki/Lasso_(statistics))\n",
    "\n",
    "### Ridge\n",
    "\n",
    "- Error minimization: [Ridge](https://en.wikipedia.org/wiki/Lasso_(statistics))\n",
    "\n",
    "@help add image "
   ]
  },
  {
   "cell_type": "markdown",
   "metadata": {},
   "source": [
    "# Fit models \n",
    "\n"
   ]
  },
  {
   "cell_type": "markdown",
   "metadata": {},
   "source": [
    "# Evaluate model performance \n",
    "\n",
    "## Look at accuracy \n",
    "\n",
    "One way to evaluate our model is look at its accuracy. For example, if we are classifying movies as Oscar winners or not. What proportion of movies can we correctly identify as Oscar winners? \n",
    "\n",
    "## Error Rates \n",
    "\n",
    "Confusion matrices are great because they allow us to see what types of errors are model makes! If our model makes systematic errors, we need to know that! It is easiest to think about error rates in the context of a binary confusion matrix. \n",
    "\n",
    "<img src=\"img/binaryconfusionmatrix.png\"\n",
    "     alt=\"Example Great Movie\"\n",
    "     style=\"align: center\"/>"
   ]
  },
  {
   "cell_type": "markdown",
   "metadata": {},
   "source": [
    "## Explore your errors\n",
    "\n",
    "Exploring the types of errors made by your model is super important! I recommend doing at least a simple check whenever you check model accuracy. \n",
    "\n",
    "While the internet and our newfound scraping skills can give us a ton of data, to develop good models, we need to consider that data with some skepticism and look at the errors our models make. \n",
    "\n",
    "For example, movies makers are notorious for overrepresenting some parts of society while underrepresenting others. While a movie audience is made of 50% women, only 24% of movie leads are women. 68% of all female characters were white in the top 100 films of 2017. 16% were Black, 7% were Asian, 7% were Latina, and 2% were of another race or ethnicity [[Women & Hollywood](https://womenandhollywood.com/resources/statistics/)]. \n",
    "\n",
    "This means that if we want to use movie data from previous, we have to be aware that most of the leads and speaking characters are going to have light skin and ~76% of them will be male.\n",
    "\n",
    "One clear example of how this can go wrong can be demonstrated by facial recognition software. Joy was a graduate student at the MIT Media Lab, working facial detection software, but she had trouble testing her code because the out of the box face detection software never detected her face. To test her code, she had to wear a white mask to be recognized. \n",
    "     \n",
    "Because the training data contained many light-skinned faces, the software was incapable of recognizing faces that deviated from that norm. \n",
    "\n",
    "<img src=\"img/joy.png\"\n",
    "     alt=\"Bias in ML\"\n",
    "     style=\"align: center\"/>\n"
   ]
  },
  {
   "cell_type": "markdown",
   "metadata": {},
   "source": [
    "Putting this in terms of our example: \n",
    "   - True Positive = You predicted a movie would get an Oscar, and it did! \n",
    "   - True Negative = You predicted a movie would *not* get an Oscar, and it did not get one. \n",
    "   - False Positive = You predicted a movie would get an Oscar, and it did *not*.\n",
    "   - False Negative = You predicted a movie would *not* get an Oscar, but it did. "
   ]
  },
  {
   "cell_type": "markdown",
   "metadata": {
    "collapsed": true
   },
   "source": [
    "## ROC curves "
   ]
  },
  {
   "cell_type": "markdown",
   "metadata": {
    "collapsed": true
   },
   "source": [
    "# Feedback \n",
    "\n",
    "We love data, and we are always trying to improve our teaching! That means that we are going to ask you for data about this tutorial. Please take a moment to give us [some feedback](https://docs.google.com/forms/d/e/1FAIpQLScMlcyArrDX8AEJ4UeRkMVHSIdkipzWDTvBS2kbkrVqgJPMxA/viewform)! "
   ]
  },
  {
   "cell_type": "code",
   "execution_count": null,
   "metadata": {
    "collapsed": true
   },
   "outputs": [],
   "source": []
  }
 ],
 "metadata": {
  "anaconda-cloud": {},
  "kernelspec": {
   "display_name": "Python [default]",
   "language": "python",
   "name": "python2"
  },
  "language_info": {
   "codemirror_mode": {
    "name": "ipython",
    "version": 2
   },
   "file_extension": ".py",
   "mimetype": "text/x-python",
   "name": "python",
   "nbconvert_exporter": "python",
   "pygments_lexer": "ipython2",
   "version": "2.7.12"
  }
 },
 "nbformat": 4,
 "nbformat_minor": 1
}
