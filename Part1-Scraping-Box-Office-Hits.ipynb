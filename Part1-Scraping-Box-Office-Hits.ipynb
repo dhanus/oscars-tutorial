{
 "cells": [
  {
   "cell_type": "markdown",
   "metadata": {},
   "source": [
    "# Goals"
   ]
  },
  {
   "cell_type": "markdown",
   "metadata": {},
   "source": [
    "Good data science projects start with a clear understanding of the data and where it comes from. In this tutorial, we will use HTTP requests and BeautifulSoup to write a web scraper, and then we will use NumPy, Pandas, matplotlib, sklearn, and Jupyter notebooks to explore that data carefully.\n",
    "\n",
    "The goal of this part of the tutorial is build your skills in: \n",
    "\n",
    "- asking good questions\n",
    "- finding good data\n",
    "- scraping a web page\n",
    "- cleaning and manipulating data\n",
    "- using pandas\n",
    "- exploratory data visualization\n",
    "- thinking about data and what features might be used to make predictions"
   ]
  },
  {
   "cell_type": "markdown",
   "metadata": {},
   "source": [
    "## We're going to make a movie! \n",
    "\n",
    "\n",
    "First, we want to learn about what makes a box office hit. So to start off let's pretend that we are some (very data savvy) movie producers, and we want to make a movie that will make us a lot of money.  \n",
    "\n",
    "<img src=\"https://pinnacle.topechelon.com/files/images/Pile%20of%20Money-resized-600.jpg\"\n",
    "     alt=\"Pile of money\"\n",
    "     style=\"float: left; margin-right: 10px;\"/>\n"
   ]
  },
  {
   "cell_type": "markdown",
   "metadata": {},
   "source": [
    "So what are some features of movies that might correlate with making a ton of money? Is it the budget? The actors"
   ]
  },
  {
   "cell_type": "markdown",
   "metadata": {},
   "source": [
    "##### Example 1.  Black Panther may be a contender for best movie EVARR\n",
    "\n",
    "<img src=\"http://www.nerdcoremovement.com/wp-content/uploads/Black-Panther-1-938x535.jpg\"\n",
    "     alt=\"Example Great Movie\"\n",
    "     style=\"float: left; margin-right: 10px;\"/>"
   ]
  },
  {
   "cell_type": "markdown",
   "metadata": {},
   "source": [
    "### Try it out!  \n",
    "\n",
    "List some of the features that you think you might want to consider as you make you make **The Best Movie Ever**."
   ]
  },
  {
   "cell_type": "markdown",
   "metadata": {},
   "source": [
    "*type your answer here*"
   ]
  },
  {
   "cell_type": "markdown",
   "metadata": {},
   "source": [
    "# Asking good questions  "
   ]
  },
  {
   "cell_type": "markdown",
   "metadata": {},
   "source": [
    "**\"A good question is one that you can answer.\"**\n",
    "\n",
    "One of the most important (but unfortunately often overlooked) skills of any data practitioner is to know their own limitations. What is a good question? What questions can we ask given the data that we have. \n",
    "\n",
    "** Not good : Vague**\n",
    " - Will my movie be a box office hit?\n",
    "\n",
    "** OK (ask with caution) : Causal**\n",
    " - If I cast Actor X, will my movie be a box office hit? \n",
    " \n",
    "** Good : Likelihood** \n",
    " - What is the likelihood that my movie will be a box office hit given that it has X features?\n",
    "\n",
    "** Better : Correlation**\n",
    " - What attributes of a movie are correlated with box office success?\n"
   ]
  },
  {
   "cell_type": "markdown",
   "metadata": {},
   "source": [
    "** Reframe as a question our data can answer**\n",
    "\n",
    "Compare the features you and your teammates believed would make your movie a success. If your statements are *vague* or *causal*, revise so you are testing for a *correlation*. These are the answers data can give us!\n",
    "\n",
    "Prepare to share a few of your revisions!"
   ]
  },
  {
   "cell_type": "markdown",
   "metadata": {},
   "source": [
    "*type your answer here*"
   ]
  },
  {
   "attachments": {
    "chart.svg": {
     "image/svg+xml": [
      "PD94bWwgdmVyc2lvbj0iMS4wIiBzdGFuZGFsb25lPSJubyI/PjwhRE9DVFlQRSBzdmcgUFVCTElDICItLy9XM0MvL0RURCBTVkcgMS4xLy9FTiIgImh0dHA6Ly93d3cudzMub3JnL0dyYXBoaWNzL1NWRy8xLjEvRFREL3N2ZzExLmR0ZCI+PHN2ZyB4bWxuczp4bGluaz0iaHR0cDovL3d3dy53My5vcmcvMTk5OS94bGluayIgdmVyc2lvbj0iMS4xIiBzdHlsZT0iZm9udC1mYW1pbHk6b3BlbiBzYW5zO2ZvbnQtc2l6ZToxMnB4OyIgeG1sbnM9Imh0dHA6Ly93d3cudzMub3JnLzIwMDAvc3ZnIiB3aWR0aD0iMTA0MCIgaGVpZ2h0PSI0MTAiPjxkZXNjPkNyZWF0ZWQgd2l0aCBIaWdoY2hhcnRzIDQuMS41PC9kZXNjPjxkZWZzPjxjbGlwUGF0aCBpZD0iaGlnaGNoYXJ0cy02NSI+PHJlY3QgeD0iMCIgeT0iMCIgd2lkdGg9IjgyNiIgaGVpZ2h0PSIxOTYiPjwvcmVjdD48L2NsaXBQYXRoPjwvZGVmcz48cmVjdCB4PSIwIiB5PSIwIiB3aWR0aD0iMTA0MCIgaGVpZ2h0PSI0MTAiIHN0cm9rZVdpZHRoPSIwIiBmaWxsPSIjRkZGRkZGIiBjbGFzcz0iIGhpZ2hjaGFydHMtYmFja2dyb3VuZCI+PC9yZWN0PjxnIGNsYXNzPSJoaWdoY2hhcnRzLWdyaWQiID48L2c+PGcgY2xhc3M9ImhpZ2hjaGFydHMtZ3JpZCIgPjwvZz48ZyBjbGFzcz0iaGlnaGNoYXJ0cy1ncmlkIiA+PHBhdGggZmlsbD0ibm9uZSIgZD0iTSAxMjggMzMyLjUgTCA5NTQgMzMyLjUiIHN0cm9rZT0iI0Q4RDhEOCIgc3Ryb2tlLXdpZHRoPSIxIiAgb3BhY2l0eT0iMSI+PC9wYXRoPjxwYXRoIGZpbGw9Im5vbmUiIGQ9Ik0gMTI4IDI2Ny41IEwgOTU0IDI2Ny41IiBzdHJva2U9IiNEOEQ4RDgiIHN0cm9rZS13aWR0aD0iMSIgIG9wYWNpdHk9IjEiPjwvcGF0aD48cGF0aCBmaWxsPSJub25lIiBkPSJNIDEyOCAyMDEuNSBMIDk1NCAyMDEuNSIgc3Ryb2tlPSIjRDhEOEQ4IiBzdHJva2Utd2lkdGg9IjEiICBvcGFjaXR5PSIxIj48L3BhdGg+PHBhdGggZmlsbD0ibm9uZSIgZD0iTSAxMjggMTM1LjUgTCA5NTQgMTM1LjUiIHN0cm9rZT0iI0Q4RDhEOCIgc3Ryb2tlLXdpZHRoPSIxIiAgb3BhY2l0eT0iMSI+PC9wYXRoPjwvZz48ZyBjbGFzcz0iaGlnaGNoYXJ0cy1ncmlkIiA+PHBhdGggZmlsbD0ibm9uZSIgZD0iTSAxMjggMzMyLjUgTCA5NTQgMzMyLjUiIHN0cm9rZT0iI0Q4RDhEOCIgc3Ryb2tlLXdpZHRoPSIxIiAgb3BhY2l0eT0iMSI+PC9wYXRoPjxwYXRoIGZpbGw9Im5vbmUiIGQ9Ik0gMTI4IDI2Ny41IEwgOTU0IDI2Ny41IiBzdHJva2U9IiNEOEQ4RDgiIHN0cm9rZS13aWR0aD0iMSIgIG9wYWNpdHk9IjEiPjwvcGF0aD48cGF0aCBmaWxsPSJub25lIiBkPSJNIDEyOCAyMDEuNSBMIDk1NCAyMDEuNSIgc3Ryb2tlPSIjRDhEOEQ4IiBzdHJva2Utd2lkdGg9IjEiICBvcGFjaXR5PSIxIj48L3BhdGg+PHBhdGggZmlsbD0ibm9uZSIgZD0iTSAxMjggMTM1LjUgTCA5NTQgMTM1LjUiIHN0cm9rZT0iI0Q4RDhEOCIgc3Ryb2tlLXdpZHRoPSIxIiAgb3BhY2l0eT0iMSI+PC9wYXRoPjwvZz48ZyBjbGFzcz0iaGlnaGNoYXJ0cy1heGlzIiA+PHBhdGggZmlsbD0ibm9uZSIgZD0iTSAyMDIuNSAzMzIgTCAyMDIuNSAzNDIiIHN0cm9rZT0iI0MwRDBFMCIgc3Ryb2tlLXdpZHRoPSIxIiBvcGFjaXR5PSIxIj48L3BhdGg+PHBhdGggZmlsbD0ibm9uZSIgZD0iTSAyNzcuNSAzMzIgTCAyNzcuNSAzNDIiIHN0cm9rZT0iI0MwRDBFMCIgc3Ryb2tlLXdpZHRoPSIxIiBvcGFjaXR5PSIxIj48L3BhdGg+PHBhdGggZmlsbD0ibm9uZSIgZD0iTSAzNTIuNSAzMzIgTCAzNTIuNSAzNDIiIHN0cm9rZT0iI0MwRDBFMCIgc3Ryb2tlLXdpZHRoPSIxIiBvcGFjaXR5PSIxIj48L3BhdGg+PHBhdGggZmlsbD0ibm9uZSIgZD0iTSA0MjcuNSAzMzIgTCA0MjcuNSAzNDIiIHN0cm9rZT0iI0MwRDBFMCIgc3Ryb2tlLXdpZHRoPSIxIiBvcGFjaXR5PSIxIj48L3BhdGg+PHBhdGggZmlsbD0ibm9uZSIgZD0iTSA1MDIuNSAzMzIgTCA1MDIuNSAzNDIiIHN0cm9rZT0iI0MwRDBFMCIgc3Ryb2tlLXdpZHRoPSIxIiBvcGFjaXR5PSIxIj48L3BhdGg+PHBhdGggZmlsbD0ibm9uZSIgZD0iTSA1NzguNSAzMzIgTCA1NzguNSAzNDIiIHN0cm9rZT0iI0MwRDBFMCIgc3Ryb2tlLXdpZHRoPSIxIiBvcGFjaXR5PSIxIj48L3BhdGg+PHBhdGggZmlsbD0ibm9uZSIgZD0iTSA2NTMuNSAzMzIgTCA2NTMuNSAzNDIiIHN0cm9rZT0iI0MwRDBFMCIgc3Ryb2tlLXdpZHRoPSIxIiBvcGFjaXR5PSIxIj48L3BhdGg+PHBhdGggZmlsbD0ibm9uZSIgZD0iTSA3MjguNSAzMzIgTCA3MjguNSAzNDIiIHN0cm9rZT0iI0MwRDBFMCIgc3Ryb2tlLXdpZHRoPSIxIiBvcGFjaXR5PSIxIj48L3BhdGg+PHBhdGggZmlsbD0ibm9uZSIgZD0iTSA4MDMuNSAzMzIgTCA4MDMuNSAzNDIiIHN0cm9rZT0iI0MwRDBFMCIgc3Ryb2tlLXdpZHRoPSIxIiBvcGFjaXR5PSIxIj48L3BhdGg+PHBhdGggZmlsbD0ibm9uZSIgZD0iTSA4NzguNSAzMzIgTCA4NzguNSAzNDIiIHN0cm9rZT0iI0MwRDBFMCIgc3Ryb2tlLXdpZHRoPSIxIiBvcGFjaXR5PSIxIj48L3BhdGg+PHBhdGggZmlsbD0ibm9uZSIgZD0iTSA5NTQuNSAzMzIgTCA5NTQuNSAzNDIiIHN0cm9rZT0iI0MwRDBFMCIgc3Ryb2tlLXdpZHRoPSIxIiBvcGFjaXR5PSIxIj48L3BhdGg+PHBhdGggZmlsbD0ibm9uZSIgZD0iTSAxMjcuNSAzMzIgTCAxMjcuNSAzNDIiIHN0cm9rZT0iI0MwRDBFMCIgc3Ryb2tlLXdpZHRoPSIxIiBvcGFjaXR5PSIxIj48L3BhdGg+PHBhdGggZmlsbD0ibm9uZSIgZD0iTSAxMjggMzMyLjUgTCA5NTQgMzMyLjUiIHN0cm9rZT0iI0MwRDBFMCIgc3Ryb2tlLXdpZHRoPSIxIiAgdmlzaWJpbGl0eT0idmlzaWJsZSI+PC9wYXRoPjwvZz48ZyBjbGFzcz0iaGlnaGNoYXJ0cy1heGlzIiA+PHBhdGggZmlsbD0ibm9uZSIgZD0iTSAyMDIuNSAxMzYgTCAyMDIuNSAxMjYiIHN0cm9rZT0iI0MwRDBFMCIgc3Ryb2tlLXdpZHRoPSIxIiBvcGFjaXR5PSIxIj48L3BhdGg+PHBhdGggZmlsbD0ibm9uZSIgZD0iTSAyNzcuNSAxMzYgTCAyNzcuNSAxMjYiIHN0cm9rZT0iI0MwRDBFMCIgc3Ryb2tlLXdpZHRoPSIxIiBvcGFjaXR5PSIxIj48L3BhdGg+PHBhdGggZmlsbD0ibm9uZSIgZD0iTSAzNTIuNSAxMzYgTCAzNTIuNSAxMjYiIHN0cm9rZT0iI0MwRDBFMCIgc3Ryb2tlLXdpZHRoPSIxIiBvcGFjaXR5PSIxIj48L3BhdGg+PHBhdGggZmlsbD0ibm9uZSIgZD0iTSA0MjcuNSAxMzYgTCA0MjcuNSAxMjYiIHN0cm9rZT0iI0MwRDBFMCIgc3Ryb2tlLXdpZHRoPSIxIiBvcGFjaXR5PSIxIj48L3BhdGg+PHBhdGggZmlsbD0ibm9uZSIgZD0iTSA1MDIuNSAxMzYgTCA1MDIuNSAxMjYiIHN0cm9rZT0iI0MwRDBFMCIgc3Ryb2tlLXdpZHRoPSIxIiBvcGFjaXR5PSIxIj48L3BhdGg+PHBhdGggZmlsbD0ibm9uZSIgZD0iTSA1NzguNSAxMzYgTCA1NzguNSAxMjYiIHN0cm9rZT0iI0MwRDBFMCIgc3Ryb2tlLXdpZHRoPSIxIiBvcGFjaXR5PSIxIj48L3BhdGg+PHBhdGggZmlsbD0ibm9uZSIgZD0iTSA2NTMuNSAxMzYgTCA2NTMuNSAxMjYiIHN0cm9rZT0iI0MwRDBFMCIgc3Ryb2tlLXdpZHRoPSIxIiBvcGFjaXR5PSIxIj48L3BhdGg+PHBhdGggZmlsbD0ibm9uZSIgZD0iTSA3MjguNSAxMzYgTCA3MjguNSAxMjYiIHN0cm9rZT0iI0MwRDBFMCIgc3Ryb2tlLXdpZHRoPSIxIiBvcGFjaXR5PSIxIj48L3BhdGg+PHBhdGggZmlsbD0ibm9uZSIgZD0iTSA4MDMuNSAxMzYgTCA4MDMuNSAxMjYiIHN0cm9rZT0iI0MwRDBFMCIgc3Ryb2tlLXdpZHRoPSIxIiBvcGFjaXR5PSIxIj48L3BhdGg+PHBhdGggZmlsbD0ibm9uZSIgZD0iTSA4NzguNSAxMzYgTCA4NzguNSAxMjYiIHN0cm9rZT0iI0MwRDBFMCIgc3Ryb2tlLXdpZHRoPSIxIiBvcGFjaXR5PSIxIj48L3BhdGg+PHBhdGggZmlsbD0ibm9uZSIgZD0iTSA5NTQuNSAxMzYgTCA5NTQuNSAxMjYiIHN0cm9rZT0iI0MwRDBFMCIgc3Ryb2tlLXdpZHRoPSIxIiBvcGFjaXR5PSIxIj48L3BhdGg+PHBhdGggZmlsbD0ibm9uZSIgZD0iTSAxMjcuNSAxMzYgTCAxMjcuNSAxMjYiIHN0cm9rZT0iI0MwRDBFMCIgc3Ryb2tlLXdpZHRoPSIxIiBvcGFjaXR5PSIxIj48L3BhdGg+PHBhdGggZmlsbD0ibm9uZSIgZD0iTSAxMjggMTM1LjUgTCA5NTQgMTM1LjUiIHN0cm9rZT0iI0MwRDBFMCIgc3Ryb2tlLXdpZHRoPSIxIiAgdmlzaWJpbGl0eT0idmlzaWJsZSI+PC9wYXRoPjwvZz48ZyBjbGFzcz0iaGlnaGNoYXJ0cy1heGlzIiA+PHRleHQgeD0iMTAxMi45MDYyNSIgIHRleHQtYW5jaG9yPSJtaWRkbGUiIHRyYW5zZm9ybT0idHJhbnNsYXRlKDAsMCkgcm90YXRlKDkwIDEwMTIuOTA2MjUgMjM0KSIgY2xhc3M9IiBoaWdoY2hhcnRzLXlheGlzLXRpdGxlIiBzdHlsZT0iY29sb3I6IzAwMDAwMDtmaWxsOiMwMDAwMDA7IiB2aXNpYmlsaXR5PSJ2aXNpYmxlIiB5PSIyMzQiPjx0c3Bhbj5OaWNob2xhcyBDYWdlPC90c3Bhbj48L3RleHQ+PC9nPjxnIGNsYXNzPSJoaWdoY2hhcnRzLWF4aXMiID48dGV4dCB4PSIyNy4yOTY4NzUiICB0ZXh0LWFuY2hvcj0ibWlkZGxlIiB0cmFuc2Zvcm09InRyYW5zbGF0ZSgwLDApIHJvdGF0ZSgyNzAgMjcuMjk2ODc1IDIzNCkiIGNsYXNzPSIgaGlnaGNoYXJ0cy15YXhpcy10aXRsZSIgc3R5bGU9ImNvbG9yOiNiYTBmMjc7ZmlsbDojYmEwZjI3OyIgdmlzaWJpbGl0eT0idmlzaWJsZSIgeT0iMjM0Ij48dHNwYW4+U3dpbW1pbmcgcG9vbCBkcm93bmluZ3M8L3RzcGFuPjwvdGV4dD48L2c+PGcgY2xhc3M9ImhpZ2hjaGFydHMtc2VyaWVzLWdyb3VwIiA+PGcgY2xhc3M9ImhpZ2hjaGFydHMtc2VyaWVzIiB2aXNpYmlsaXR5PSJ2aXNpYmxlIiAgdHJhbnNmb3JtPSJ0cmFuc2xhdGUoMTI4LDEzNikgc2NhbGUoMSAxKSIgY2xpcC1wYXRoPSJ1cmwoI2hpZ2hjaGFydHMtNjUpIj48cGF0aCBmaWxsPSJub25lIiBkPSJNIDM3LjU0NTQ1NDU0NTQ1NDU1IDEzMC42NjY2NjY2NjY2NjY2OSBDIDM3LjU0NTQ1NDU0NTQ1NDU1IDEzMC42NjY2NjY2NjY2NjY2OSA4Mi42IDEzMC42NjY2NjY2NjY2NjY2OSAxMTIuNjM2MzYzNjM2MzYzNjQgMTMwLjY2NjY2NjY2NjY2NjY5IEMgMTQyLjY3MjcyNzI3MjcyNzMgMTMwLjY2NjY2NjY2NjY2NjY5IDE1Ny42OTA5MDkwOTA5MDkxIDEzMC42NjY2NjY2NjY2NjY2OSAxODcuNzI3MjcyNzI3MjcyNzUgMTMwLjY2NjY2NjY2NjY2NjY5IEMgMjE3Ljc2MzYzNjM2MzYzNjQgMTMwLjY2NjY2NjY2NjY2NjY5IDIzMi43ODE4MTgxODE4MTgyIDk4IDI2Mi44MTgxODE4MTgxODE4IDk4IEMgMjkyLjg1NDU0NTQ1NDU0NTUgOTggMzA3Ljg3MjcyNzI3MjcyNzMgMTYzLjMzMzMzMzMzMzMzMzM0IDMzNy45MDkwOTA5MDkwOTA5MyAxNjMuMzMzMzMzMzMzMzMzMzQgQyAzNjcuOTQ1NDU0NTQ1NDU0NiAxNjMuMzMzMzMzMzMzMzMzMzQgMzgyLjk2MzYzNjM2MzYzNjQgMTYzLjMzMzMzMzMzMzMzMzM0IDQxMy4wMDAwMDAwMDAwMDAwNiAxNjMuMzMzMzMzMzMzMzMzMzQgQyA0NDMuMDM2MzYzNjM2MzYzNyAxNjMuMzMzMzMzMzMzMzMzMzQgNDU4LjA1NDU0NTQ1NDU0NTUgMTQzLjczMzMzMzMzMzMzMzM1IDQ4OC4wOTA5MDkwOTA5MDkxIDEzMC42NjY2NjY2NjY2NjY2OSBDIDUxOC4xMjcyNzI3MjcyNzI4IDExNy41OTk5OTk5OTk5OTk5OCA1MzMuMTQ1NDU0NTQ1NDU0NiAxMTEuMDY2NjY2NjY2NjY2NjIgNTYzLjE4MTgxODE4MTgxODEgOTggQyA1OTMuMjE4MTgxODE4MTgxOCA4NC45MzMzMzMzMzMzMzMyOCA2MDguMjM2MzYzNjM2MzYzNiA2NS4zMzMzMzMzMzMzMzMzNCA2MzguMjcyNzI3MjcyNzI3MyA2NS4zMzMzMzMzMzMzMzMzNCBDIDY2OC4zMDkwOTA5MDkwOTA5IDY1LjMzMzMzMzMzMzMzMzM0IDY4My4zMjcyNzI3MjcyNzI3IDE2My4zMzMzMzMzMzMzMzMzNCA3MTMuMzYzNjM2MzYzNjM2NCAxNjMuMzMzMzMzMzMzMzMzMzQgQyA3NDMuNCAxNjMuMzMzMzMzMzMzMzMzMzQgNzg4LjQ1NDU0NTQ1NDU0NTUgNjUuMzMzMzMzMzMzMzMzMzQgNzg4LjQ1NDU0NTQ1NDU0NTUgNjUuMzMzMzMzMzMzMzMzMzQiIHN0cm9rZT0iIzAwMDAwMCIgc3Ryb2tlLXdpZHRoPSIyIiAgc3Ryb2tlLWxpbmVqb2luPSJyb3VuZCIgc3Ryb2tlLWxpbmVjYXA9InJvdW5kIj48L3BhdGg+PC9nPjxnIGNsYXNzPSJoaWdoY2hhcnRzLW1hcmtlcnMiIHZpc2liaWxpdHk9InZpc2libGUiICB0cmFuc2Zvcm09InRyYW5zbGF0ZSgxMjgsMTM2KSBzY2FsZSgxIDEpIiBjbGlwLXBhdGg9Im5vbmUiPjxwYXRoIGZpbGw9IiMwMDAwMDAiIGQ9Ik0gNzg4IDYxLjMzMzMzMzMzMzMzMzM0IEMgNzkzLjMyOCA2MS4zMzMzMzMzMzMzMzMzNCA3OTMuMzI4IDY5LjMzMzMzMzMzMzMzMzM0IDc4OCA2OS4zMzMzMzMzMzMzMzMzNCBDIDc4Mi42NzIgNjkuMzMzMzMzMzMzMzMzMzQgNzgyLjY3MiA2MS4zMzMzMzMzMzMzMzMzNCA3ODggNjEuMzMzMzMzMzMzMzMzMzQgWiI+PC9wYXRoPjxwYXRoIGZpbGw9IiMwMDAwMDAiIGQ9Ik0gNzEzIDE1OS4zMzMzMzMzMzMzMzMzNCBDIDcxOC4zMjggMTU5LjMzMzMzMzMzMzMzMzM0IDcxOC4zMjggMTY3LjMzMzMzMzMzMzMzMzM0IDcxMyAxNjcuMzMzMzMzMzMzMzMzMzQgQyA3MDcuNjcyIDE2Ny4zMzMzMzMzMzMzMzMzNCA3MDcuNjcyIDE1OS4zMzMzMzMzMzMzMzMzNCA3MTMgMTU5LjMzMzMzMzMzMzMzMzM0IFoiPjwvcGF0aD48cGF0aCBmaWxsPSIjMDAwMDAwIiBkPSJNIDYzOCA2MS4zMzMzMzMzMzMzMzMzNCBDIDY0My4zMjggNjEuMzMzMzMzMzMzMzMzMzQgNjQzLjMyOCA2OS4zMzMzMzMzMzMzMzMzNCA2MzggNjkuMzMzMzMzMzMzMzMzMzQgQyA2MzIuNjcyIDY5LjMzMzMzMzMzMzMzMzM0IDYzMi42NzIgNjEuMzMzMzMzMzMzMzMzMzQgNjM4IDYxLjMzMzMzMzMzMzMzMzM0IFoiPjwvcGF0aD48cGF0aCBmaWxsPSIjMDAwMDAwIiBkPSJNIDU2MyA5NCBDIDU2OC4zMjggOTQgNTY4LjMyOCAxMDIgNTYzIDEwMiBDIDU1Ny42NzIgMTAyIDU1Ny42NzIgOTQgNTYzIDk0IFoiPjwvcGF0aD48cGF0aCBmaWxsPSIjMDAwMDAwIiBkPSJNIDQ4OCAxMjYuNjY2NjY2NjY2NjY2NjkgQyA0OTMuMzI4IDEyNi42NjY2NjY2NjY2NjY2OSA0OTMuMzI4IDEzNC42NjY2NjY2NjY2NjY2OSA0ODggMTM0LjY2NjY2NjY2NjY2NjY5IEMgNDgyLjY3MiAxMzQuNjY2NjY2NjY2NjY2NjkgNDgyLjY3MiAxMjYuNjY2NjY2NjY2NjY2NjkgNDg4IDEyNi42NjY2NjY2NjY2NjY2OSBaIj48L3BhdGg+PHBhdGggZmlsbD0iIzAwMDAwMCIgZD0iTSA0MTMgMTU5LjMzMzMzMzMzMzMzMzM0IEMgNDE4LjMyOCAxNTkuMzMzMzMzMzMzMzMzMzQgNDE4LjMyOCAxNjcuMzMzMzMzMzMzMzMzMzQgNDEzIDE2Ny4zMzMzMzMzMzMzMzMzNCBDIDQwNy42NzIgMTY3LjMzMzMzMzMzMzMzMzM0IDQwNy42NzIgMTU5LjMzMzMzMzMzMzMzMzM0IDQxMyAxNTkuMzMzMzMzMzMzMzMzMzQgWiI+PC9wYXRoPjxwYXRoIGZpbGw9IiMwMDAwMDAiIGQ9Ik0gMzM3IDE1OS4zMzMzMzMzMzMzMzMzNCBDIDM0Mi4zMjggMTU5LjMzMzMzMzMzMzMzMzM0IDM0Mi4zMjggMTY3LjMzMzMzMzMzMzMzMzM0IDMzNyAxNjcuMzMzMzMzMzMzMzMzMzQgQyAzMzEuNjcyIDE2Ny4zMzMzMzMzMzMzMzMzNCAzMzEuNjcyIDE1OS4zMzMzMzMzMzMzMzMzNCAzMzcgMTU5LjMzMzMzMzMzMzMzMzM0IFoiPjwvcGF0aD48cGF0aCBmaWxsPSIjMDAwMDAwIiBkPSJNIDI2MiA5NCBDIDI2Ny4zMjggOTQgMjY3LjMyOCAxMDIgMjYyIDEwMiBDIDI1Ni42NzIgMTAyIDI1Ni42NzIgOTQgMjYyIDk0IFoiPjwvcGF0aD48cGF0aCBmaWxsPSIjMDAwMDAwIiBkPSJNIDE4NyAxMjYuNjY2NjY2NjY2NjY2NjkgQyAxOTIuMzI4IDEyNi42NjY2NjY2NjY2NjY2OSAxOTIuMzI4IDEzNC42NjY2NjY2NjY2NjY2OSAxODcgMTM0LjY2NjY2NjY2NjY2NjY5IEMgMTgxLjY3MiAxMzQuNjY2NjY2NjY2NjY2NjkgMTgxLjY3MiAxMjYuNjY2NjY2NjY2NjY2NjkgMTg3IDEyNi42NjY2NjY2NjY2NjY2OSBaIj48L3BhdGg+PHBhdGggZmlsbD0iIzAwMDAwMCIgZD0iTSAxMTIgMTI2LjY2NjY2NjY2NjY2NjY5IEMgMTE3LjMyOCAxMjYuNjY2NjY2NjY2NjY2NjkgMTE3LjMyOCAxMzQuNjY2NjY2NjY2NjY2NjkgMTEyIDEzNC42NjY2NjY2NjY2NjY2OSBDIDEwNi42NzIgMTM0LjY2NjY2NjY2NjY2NjY5IDEwNi42NzIgMTI2LjY2NjY2NjY2NjY2NjY5IDExMiAxMjYuNjY2NjY2NjY2NjY2NjkgWiI+PC9wYXRoPjxwYXRoIGZpbGw9IiMwMDAwMDAiIGQ9Ik0gMzcgMTI2LjY2NjY2NjY2NjY2NjY5IEMgNDIuMzI4IDEyNi42NjY2NjY2NjY2NjY2OSA0Mi4zMjggMTM0LjY2NjY2NjY2NjY2NjY5IDM3IDEzNC42NjY2NjY2NjY2NjY2OSBDIDMxLjY3MiAxMzQuNjY2NjY2NjY2NjY2NjkgMzEuNjcyIDEyNi42NjY2NjY2NjY2NjY2OSAzNyAxMjYuNjY2NjY2NjY2NjY2NjkgWiI+PC9wYXRoPjwvZz48ZyBjbGFzcz0iaGlnaGNoYXJ0cy1zZXJpZXMiIHZpc2liaWxpdHk9InZpc2libGUiICB0cmFuc2Zvcm09InRyYW5zbGF0ZSgxMjgsMTM2KSBzY2FsZSgxIDEpIiBjbGlwLXBhdGg9InVybCgjaGlnaGNoYXJ0cy02NSkiPjxwYXRoIGZpbGw9Im5vbmUiIGQ9Ik0gMzcuNTQ1NDU0NTQ1NDU0NTUgMTAxLjI2NjY2NjY2NjY2NjY3IEMgMzcuNTQ1NDU0NTQ1NDU0NTUgMTAxLjI2NjY2NjY2NjY2NjY3IDgyLjYgMTI0LjEzMzMzMzMzMzMzMzM0IDExMi42MzYzNjM2MzYzNjM2NCAxMjQuMTMzMzMzMzMzMzMzMzQgQyAxNDIuNjcyNzI3MjcyNzI3MyAxMjQuMTMzMzMzMzMzMzMzMzQgMTU3LjY5MDkwOTA5MDkwOTEgMTI0LjEzMzMzMzMzMzMzMzM0IDE4Ny43MjcyNzI3MjcyNzI3NSAxMjQuMTMzMzMzMzMzMzMzMzQgQyAyMTcuNzYzNjM2MzYzNjM2NCAxMjQuMTMzMzMzMzMzMzMzMzQgMjMyLjc4MTgxODE4MTgxODIgMTI2LjA5MzMzMzMzMzMzMzMzIDI2Mi44MTgxODE4MTgxODE4IDEzNy4yIEMgMjkyLjg1NDU0NTQ1NDU0NTUgMTQ4LjMwNjY2NjY2NjY2NjY3IDMwNy44NzI3MjcyNzI3MjczIDE3OS42NjY2NjY2NjY2NjY2NiAzMzcuOTA5MDkwOTA5MDkwOTMgMTc5LjY2NjY2NjY2NjY2NjY2IEMgMzY3Ljk0NTQ1NDU0NTQ1NDYgMTc5LjY2NjY2NjY2NjY2NjY2IDM4Mi45NjM2MzYzNjM2MzY0IDE1MC4yNjY2NjY2NjY2NjY2NSA0MTMuMDAwMDAwMDAwMDAwMDYgMTQ3IEMgNDQzLjAzNjM2MzYzNjM2MzcgMTQzLjczMzMzMzMzMzMzMzM1IDQ1OC4wNTQ1NDU0NTQ1NDU1IDE0NS42OTMzMzMzMzMzMzMzNiA0ODguMDkwOTA5MDkwOTA5MSAxNDMuNzMzMzMzMzMzMzMzMzUgQyA1MTguMTI3MjcyNzI3MjcyOCAxNDEuNzczMzMzMzMzMzMzMzQgNTMzLjE0NTQ1NDU0NTQ1NDYgMTQzLjczMzMzMzMzMzMzMzM1IDU2My4xODE4MTgxODE4MTgxIDEzNy4yIEMgNTkzLjIxODE4MTgxODE4MTggMTMwLjY2NjY2NjY2NjY2NjYzIDYwOC4yMzYzNjM2MzYzNjM2IDU1LjUzMzMzMzMzMzMzMzMzIDYzOC4yNzI3MjcyNzI3MjczIDU1LjUzMzMzMzMzMzMzMzMzIEMgNjY4LjMwOTA5MDkwOTA5MDkgNTUuNTMzMzMzMzMzMzMzMzMgNjgzLjMyNzI3MjcyNzI3MjcgMTUwLjI2NjY2NjY2NjY2NjY1IDcxMy4zNjM2MzYzNjM2MzY0IDE1MC4yNjY2NjY2NjY2NjY2NSBDIDc0My40IDE1MC4yNjY2NjY2NjY2NjY2NSA3ODguNDU0NTQ1NDU0NTQ1NSAxMjQuMTMzMzMzMzMzMzMzMzQgNzg4LjQ1NDU0NTQ1NDU0NTUgMTI0LjEzMzMzMzMzMzMzMzM0IiBzdHJva2U9IiNiYTBmMjciIHN0cm9rZS13aWR0aD0iMiIgIHN0cm9rZS1saW5lam9pbj0icm91bmQiIHN0cm9rZS1saW5lY2FwPSJyb3VuZCI+PC9wYXRoPjwvZz48ZyBjbGFzcz0iaGlnaGNoYXJ0cy1tYXJrZXJzIiB2aXNpYmlsaXR5PSJ2aXNpYmxlIiAgdHJhbnNmb3JtPSJ0cmFuc2xhdGUoMTI4LDEzNikgc2NhbGUoMSAxKSIgY2xpcC1wYXRoPSJub25lIj48cGF0aCBmaWxsPSIjYmEwZjI3IiBkPSJNIDc4OCAxMjAuMTMzMzMzMzMzMzMzMzQgTCA3OTIgMTI0LjEzMzMzMzMzMzMzMzM0IDc4OCAxMjguMTMzMzMzMzMzMzMzMzMgNzg0IDEyNC4xMzMzMzMzMzMzMzMzNCBaIj48L3BhdGg+PHBhdGggZmlsbD0iI2JhMGYyNyIgZD0iTSA3MTMgMTQ2LjI2NjY2NjY2NjY2NjY1IEwgNzE3IDE1MC4yNjY2NjY2NjY2NjY2NSA3MTMgMTU0LjI2NjY2NjY2NjY2NjY1IDcwOSAxNTAuMjY2NjY2NjY2NjY2NjUgWiI+PC9wYXRoPjxwYXRoIGZpbGw9IiNiYTBmMjciIGQ9Ik0gNjM4IDUxLjUzMzMzMzMzMzMzMzMzIEwgNjQyIDU1LjUzMzMzMzMzMzMzMzMzIDYzOCA1OS41MzMzMzMzMzMzMzMzMyA2MzQgNTUuNTMzMzMzMzMzMzMzMzMgWiI+PC9wYXRoPjxwYXRoIGZpbGw9IiNiYTBmMjciIGQ9Ik0gNTYzIDEzMy4yIEwgNTY3IDEzNy4yIDU2MyAxNDEuMiA1NTkgMTM3LjIgWiI+PC9wYXRoPjxwYXRoIGZpbGw9IiNiYTBmMjciIGQ9Ik0gNDg4IDEzOS43MzMzMzMzMzMzMzMzNSBMIDQ5MiAxNDMuNzMzMzMzMzMzMzMzMzUgNDg4IDE0Ny43MzMzMzMzMzMzMzMzNSA0ODQgMTQzLjczMzMzMzMzMzMzMzM1IFoiPjwvcGF0aD48cGF0aCBmaWxsPSIjYmEwZjI3IiBkPSJNIDQxMyAxNDMgTCA0MTcgMTQ3IDQxMyAxNTEgNDA5IDE0NyBaIj48L3BhdGg+PHBhdGggZmlsbD0iI2JhMGYyNyIgZD0iTSAzMzcgMTc1LjY2NjY2NjY2NjY2NjY2IEwgMzQxIDE3OS42NjY2NjY2NjY2NjY2NiAzMzcgMTgzLjY2NjY2NjY2NjY2NjY2IDMzMyAxNzkuNjY2NjY2NjY2NjY2NjYgWiI+PC9wYXRoPjxwYXRoIGZpbGw9IiNiYTBmMjciIGQ9Ik0gMjYyIDEzMy4yIEwgMjY2IDEzNy4yIDI2MiAxNDEuMiAyNTggMTM3LjIgWiI+PC9wYXRoPjxwYXRoIGZpbGw9IiNiYTBmMjciIGQ9Ik0gMTg3IDEyMC4xMzMzMzMzMzMzMzMzNCBMIDE5MSAxMjQuMTMzMzMzMzMzMzMzMzQgMTg3IDEyOC4xMzMzMzMzMzMzMzMzMyAxODMgMTI0LjEzMzMzMzMzMzMzMzM0IFoiPjwvcGF0aD48cGF0aCBmaWxsPSIjYmEwZjI3IiBkPSJNIDExMiAxMjAuMTMzMzMzMzMzMzMzMzQgTCAxMTYgMTI0LjEzMzMzMzMzMzMzMzM0IDExMiAxMjguMTMzMzMzMzMzMzMzMzMgMTA4IDEyNC4xMzMzMzMzMzMzMzMzNCBaIj48L3BhdGg+PHBhdGggZmlsbD0iI2JhMGYyNyIgZD0iTSAzNyA5Ny4yNjY2NjY2NjY2NjY2NyBMIDQxIDEwMS4yNjY2NjY2NjY2NjY2NyAzNyAxMDUuMjY2NjY2NjY2NjY2NjcgMzMgMTAxLjI2NjY2NjY2NjY2NjY3IFoiPjwvcGF0aD48L2c+PC9nPjx0ZXh0IHg9IjUyMCIgdGV4dC1hbmNob3I9Im1pZGRsZSIgY2xhc3M9ImhpZ2hjaGFydHMtdGl0bGUiICBzdHlsZT0iY29sb3I6Izc3Nztmb250LXNpemU6MThweDtmaWxsOiM3Nzc7d2lkdGg6OTc2cHg7IiB5PSIyNCI+PHRzcGFuIHN0eWxlPSJmaWxsOiNiYTBmMjc7Zm9udC1zaXplOjI0cHg7Zm9udC13ZWlnaHQ6Ym9sZDtmb250LWZhbWlseTogJ2xvcmEnIj5OdW1iZXIgb2YgcGVvcGxlIHdobyBkcm93bmVkIGJ5IGZhbGxpbmcgaW50byBhIHBvb2w8L3RzcGFuPjx0c3BhbiBzdHlsZT0iZm9udC1mYW1pbHk6ICdsb3JhJyIgeD0iNTIwIiBkeT0iMjEiPiBjb3JyZWxhdGVzIHdpdGggPC90c3Bhbj48dHNwYW4gc3R5bGU9ImZpbGw6IzAwMDAwMDtmb250LXNpemU6MjRweDtmb250LXdlaWdodDpib2xkO2ZvbnQtZmFtaWx5OiAnbG9yYSciIHg9IjUyMCIgZHk9IjI5Ij5GaWxtcyBOaWNvbGFzIENhZ2UgYXBwZWFyZWQgaW48L3RzcGFuPjwvdGV4dD48ZyBjbGFzcz0iaGlnaGNoYXJ0cy1sZWdlbmQiICB0cmFuc2Zvcm09InRyYW5zbGF0ZSgzNjQsMzY3KSI+PGcgPjxnPjxnIGNsYXNzPSJoaWdoY2hhcnRzLWxlZ2VuZC1pdGVtIiAgdHJhbnNmb3JtPSJ0cmFuc2xhdGUoOCwzKSI+PHBhdGggZmlsbD0ibm9uZSIgZD0iTSAwIDExIEwgMTYgMTEiIHN0cm9rZT0iIzAwMDAwMCIgc3Ryb2tlLXdpZHRoPSIyIj48L3BhdGg+PHBhdGggZmlsbD0iIzAwMDAwMCIgZD0iTSA4IDcgQyAxMy4zMjggNyAxMy4zMjggMTUgOCAxNSBDIDIuNjcxOTk5OTk5OTk5OTk5NyAxNSAyLjY3MTk5OTk5OTk5OTk5OTcgNyA4IDcgWiI+PC9wYXRoPjx0ZXh0IHg9IjIxIiBzdHlsZT0iY29sb3I6IzMzMzMzMztmb250LXNpemU6MTJweDtmb250LXdlaWdodDpib2xkO2N1cnNvcjpwb2ludGVyO2ZpbGw6IzMzMzMzMzsiIHRleHQtYW5jaG9yPSJzdGFydCIgIHk9IjE1Ij48dHNwYW4+TmljaG9sYXMgQ2FnZTwvdHNwYW4+PC90ZXh0PjwvZz48ZyBjbGFzcz0iaGlnaGNoYXJ0cy1sZWdlbmQtaXRlbSIgIHRyYW5zZm9ybT0idHJhbnNsYXRlKDEzMC4wNDY4NzUsMykiPjxwYXRoIGZpbGw9Im5vbmUiIGQ9Ik0gMCAxMSBMIDE2IDExIiBzdHJva2U9IiNiYTBmMjciIHN0cm9rZS13aWR0aD0iMiI+PC9wYXRoPjxwYXRoIGZpbGw9IiNiYTBmMjciIGQ9Ik0gOCA3IEwgMTIgMTEgOCAxNSA0IDExIFoiPjwvcGF0aD48dGV4dCB4PSIyMSIgeT0iMTUiIHN0eWxlPSJjb2xvcjojMzMzMzMzO2ZvbnQtc2l6ZToxMnB4O2ZvbnQtd2VpZ2h0OmJvbGQ7Y3Vyc29yOnBvaW50ZXI7ZmlsbDojMzMzMzMzOyIgdGV4dC1hbmNob3I9InN0YXJ0IiA+PHRzcGFuPlN3aW1taW5nIHBvb2wgZHJvd25pbmdzPC90c3Bhbj48L3RleHQ+PC9nPjwvZz48L2c+PC9nPjxnIGNsYXNzPSJoaWdoY2hhcnRzLWF4aXMtbGFiZWxzIGhpZ2hjaGFydHMteGF4aXMtbGFiZWxzIiA+PHRleHQgeD0iMTY1LjU0NTQ1NDU0NTQ1NDU2IiBzdHlsZT0iY29sb3I6IzAwMDAwMDtjdXJzb3I6ZGVmYXVsdDtmb250LXNpemU6MTFweDtmaWxsOiMwMDAwMDA7d2lkdGg6NzUuMDkwOTA5MDkwOTA5MTt0ZXh0LW92ZXJmbG93OmVsbGlwc2lzOyIgdGV4dC1hbmNob3I9Im1pZGRsZSIgdHJhbnNmb3JtPSJ0cmFuc2xhdGUoMCwwKSIgeT0iMzUxIiBvcGFjaXR5PSIxIj48dHNwYW4+MTk5OTwvdHNwYW4+PC90ZXh0Pjx0ZXh0IHg9IjI0MC42MzYzNjM2MzYzNjM2MyIgc3R5bGU9ImNvbG9yOiMwMDAwMDA7Y3Vyc29yOmRlZmF1bHQ7Zm9udC1zaXplOjExcHg7ZmlsbDojMDAwMDAwO3dpZHRoOjc1LjA5MDkwOTA5MDkwOTE7dGV4dC1vdmVyZmxvdzplbGxpcHNpczsiIHRleHQtYW5jaG9yPSJtaWRkbGUiIHRyYW5zZm9ybT0idHJhbnNsYXRlKDAsMCkiIHk9IjM1MSIgb3BhY2l0eT0iMSI+PHRzcGFuPjIwMDA8L3RzcGFuPjwvdGV4dD48dGV4dCB4PSIzMTUuNzI3MjcyNzI3MjcyNzUiIHN0eWxlPSJjb2xvcjojMDAwMDAwO2N1cnNvcjpkZWZhdWx0O2ZvbnQtc2l6ZToxMXB4O2ZpbGw6IzAwMDAwMDt3aWR0aDo3NS4wOTA5MDkwOTA5MDkxO3RleHQtb3ZlcmZsb3c6ZWxsaXBzaXM7IiB0ZXh0LWFuY2hvcj0ibWlkZGxlIiB0cmFuc2Zvcm09InRyYW5zbGF0ZSgwLDApIiB5PSIzNTEiIG9wYWNpdHk9IjEiPjx0c3Bhbj4yMDAxPC90c3Bhbj48L3RleHQ+PHRleHQgeD0iMzkwLjgxODE4MTgxODE4MTgiIHN0eWxlPSJjb2xvcjojMDAwMDAwO2N1cnNvcjpkZWZhdWx0O2ZvbnQtc2l6ZToxMXB4O2ZpbGw6IzAwMDAwMDt3aWR0aDo3NS4wOTA5MDkwOTA5MDkxO3RleHQtb3ZlcmZsb3c6ZWxsaXBzaXM7IiB0ZXh0LWFuY2hvcj0ibWlkZGxlIiB0cmFuc2Zvcm09InRyYW5zbGF0ZSgwLDApIiB5PSIzNTEiIG9wYWNpdHk9IjEiPjx0c3Bhbj4yMDAyPC90c3Bhbj48L3RleHQ+PHRleHQgeD0iNDY1LjkwOTA5MDkwOTA5MDkzIiBzdHlsZT0iY29sb3I6IzAwMDAwMDtjdXJzb3I6ZGVmYXVsdDtmb250LXNpemU6MTFweDtmaWxsOiMwMDAwMDA7d2lkdGg6NzUuMDkwOTA5MDkwOTA5MTt0ZXh0LW92ZXJmbG93OmVsbGlwc2lzOyIgdGV4dC1hbmNob3I9Im1pZGRsZSIgdHJhbnNmb3JtPSJ0cmFuc2xhdGUoMCwwKSIgeT0iMzUxIiBvcGFjaXR5PSIxIj48dHNwYW4+MjAwMzwvdHNwYW4+PC90ZXh0Pjx0ZXh0IHg9IjU0MSIgc3R5bGU9ImNvbG9yOiMwMDAwMDA7Y3Vyc29yOmRlZmF1bHQ7Zm9udC1zaXplOjExcHg7ZmlsbDojMDAwMDAwO3dpZHRoOjc1LjA5MDkwOTA5MDkwOTE7dGV4dC1vdmVyZmxvdzplbGxpcHNpczsiIHRleHQtYW5jaG9yPSJtaWRkbGUiIHRyYW5zZm9ybT0idHJhbnNsYXRlKDAsMCkiIHk9IjM1MSIgb3BhY2l0eT0iMSI+PHRzcGFuPjIwMDQ8L3RzcGFuPjwvdGV4dD48dGV4dCB4PSI2MTYuMDkwOTA5MDkwOTA5MSIgc3R5bGU9ImNvbG9yOiMwMDAwMDA7Y3Vyc29yOmRlZmF1bHQ7Zm9udC1zaXplOjExcHg7ZmlsbDojMDAwMDAwO3dpZHRoOjc1LjA5MDkwOTA5MDkwOTE7dGV4dC1vdmVyZmxvdzplbGxpcHNpczsiIHRleHQtYW5jaG9yPSJtaWRkbGUiIHRyYW5zZm9ybT0idHJhbnNsYXRlKDAsMCkiIHk9IjM1MSIgb3BhY2l0eT0iMSI+PHRzcGFuPjIwMDU8L3RzcGFuPjwvdGV4dD48dGV4dCB4PSI2OTEuMTgxODE4MTgxODE4MiIgc3R5bGU9ImNvbG9yOiMwMDAwMDA7Y3Vyc29yOmRlZmF1bHQ7Zm9udC1zaXplOjExcHg7ZmlsbDojMDAwMDAwO3dpZHRoOjc1LjA5MDkwOTA5MDkwOTE7dGV4dC1vdmVyZmxvdzplbGxpcHNpczsiIHRleHQtYW5jaG9yPSJtaWRkbGUiIHRyYW5zZm9ybT0idHJhbnNsYXRlKDAsMCkiIHk9IjM1MSIgb3BhY2l0eT0iMSI+PHRzcGFuPjIwMDY8L3RzcGFuPjwvdGV4dD48dGV4dCB4PSI3NjYuMjcyNzI3MjcyNzI3MyIgc3R5bGU9ImNvbG9yOiMwMDAwMDA7Y3Vyc29yOmRlZmF1bHQ7Zm9udC1zaXplOjExcHg7ZmlsbDojMDAwMDAwO3dpZHRoOjc1LjA5MDkwOTA5MDkwOTE7dGV4dC1vdmVyZmxvdzplbGxpcHNpczsiIHRleHQtYW5jaG9yPSJtaWRkbGUiIHRyYW5zZm9ybT0idHJhbnNsYXRlKDAsMCkiIHk9IjM1MSIgb3BhY2l0eT0iMSI+PHRzcGFuPjIwMDc8L3RzcGFuPjwvdGV4dD48dGV4dCB4PSI4NDEuMzYzNjM2MzYzNjM2NCIgc3R5bGU9ImNvbG9yOiMwMDAwMDA7Y3Vyc29yOmRlZmF1bHQ7Zm9udC1zaXplOjExcHg7ZmlsbDojMDAwMDAwO3dpZHRoOjc1LjA5MDkwOTA5MDkwOTE7dGV4dC1vdmVyZmxvdzplbGxpcHNpczsiIHRleHQtYW5jaG9yPSJtaWRkbGUiIHRyYW5zZm9ybT0idHJhbnNsYXRlKDAsMCkiIHk9IjM1MSIgb3BhY2l0eT0iMSI+PHRzcGFuPjIwMDg8L3RzcGFuPjwvdGV4dD48dGV4dCB4PSI5MTYuNDU0NTQ1NDU0NTQ1NSIgc3R5bGU9ImNvbG9yOiMwMDAwMDA7Y3Vyc29yOmRlZmF1bHQ7Zm9udC1zaXplOjExcHg7ZmlsbDojMDAwMDAwO3dpZHRoOjc1LjA5MDkwOTA5MDkwOTE7dGV4dC1vdmVyZmxvdzplbGxpcHNpczsiIHRleHQtYW5jaG9yPSJtaWRkbGUiIHRyYW5zZm9ybT0idHJhbnNsYXRlKDAsMCkiIHk9IjM1MSIgb3BhY2l0eT0iMSI+PHRzcGFuPjIwMDk8L3RzcGFuPjwvdGV4dD48L2c+PGcgY2xhc3M9ImhpZ2hjaGFydHMtYXhpcy1sYWJlbHMgaGlnaGNoYXJ0cy14YXhpcy1sYWJlbHMiID48dGV4dCB4PSIxNjUuNTQ1NDU0NTQ1NDU0NTYiIHN0eWxlPSJjb2xvcjojYmEwZjI3O2N1cnNvcjpkZWZhdWx0O2ZvbnQtc2l6ZToxMXB4O2ZpbGw6I2JhMGYyNzt3aWR0aDo3NS4wOTA5MDkwOTA5MDkxO3RleHQtb3ZlcmZsb3c6ZWxsaXBzaXM7IiB0ZXh0LWFuY2hvcj0ibWlkZGxlIiB0cmFuc2Zvcm09InRyYW5zbGF0ZSgwLDApIiB5PSIxMjEiIG9wYWNpdHk9IjEiPjx0c3Bhbj4xOTk5PC90c3Bhbj48L3RleHQ+PHRleHQgeD0iMjQwLjYzNjM2MzYzNjM2MzYzIiBzdHlsZT0iY29sb3I6I2JhMGYyNztjdXJzb3I6ZGVmYXVsdDtmb250LXNpemU6MTFweDtmaWxsOiNiYTBmMjc7d2lkdGg6NzUuMDkwOTA5MDkwOTA5MTt0ZXh0LW92ZXJmbG93OmVsbGlwc2lzOyIgdGV4dC1hbmNob3I9Im1pZGRsZSIgdHJhbnNmb3JtPSJ0cmFuc2xhdGUoMCwwKSIgeT0iMTIxIiBvcGFjaXR5PSIxIj48dHNwYW4+MjAwMDwvdHNwYW4+PC90ZXh0Pjx0ZXh0IHg9IjMxNS43MjcyNzI3MjcyNzI3NSIgc3R5bGU9ImNvbG9yOiNiYTBmMjc7Y3Vyc29yOmRlZmF1bHQ7Zm9udC1zaXplOjExcHg7ZmlsbDojYmEwZjI3O3dpZHRoOjc1LjA5MDkwOTA5MDkwOTE7dGV4dC1vdmVyZmxvdzplbGxpcHNpczsiIHRleHQtYW5jaG9yPSJtaWRkbGUiIHRyYW5zZm9ybT0idHJhbnNsYXRlKDAsMCkiIHk9IjEyMSIgb3BhY2l0eT0iMSI+PHRzcGFuPjIwMDE8L3RzcGFuPjwvdGV4dD48dGV4dCB4PSIzOTAuODE4MTgxODE4MTgxOCIgc3R5bGU9ImNvbG9yOiNiYTBmMjc7Y3Vyc29yOmRlZmF1bHQ7Zm9udC1zaXplOjExcHg7ZmlsbDojYmEwZjI3O3dpZHRoOjc1LjA5MDkwOTA5MDkwOTE7dGV4dC1vdmVyZmxvdzplbGxpcHNpczsiIHRleHQtYW5jaG9yPSJtaWRkbGUiIHRyYW5zZm9ybT0idHJhbnNsYXRlKDAsMCkiIHk9IjEyMSIgb3BhY2l0eT0iMSI+PHRzcGFuPjIwMDI8L3RzcGFuPjwvdGV4dD48dGV4dCB4PSI0NjUuOTA5MDkwOTA5MDkwOTMiIHN0eWxlPSJjb2xvcjojYmEwZjI3O2N1cnNvcjpkZWZhdWx0O2ZvbnQtc2l6ZToxMXB4O2ZpbGw6I2JhMGYyNzt3aWR0aDo3NS4wOTA5MDkwOTA5MDkxO3RleHQtb3ZlcmZsb3c6ZWxsaXBzaXM7IiB0ZXh0LWFuY2hvcj0ibWlkZGxlIiB0cmFuc2Zvcm09InRyYW5zbGF0ZSgwLDApIiB5PSIxMjEiIG9wYWNpdHk9IjEiPjx0c3Bhbj4yMDAzPC90c3Bhbj48L3RleHQ+PHRleHQgeD0iNTQxIiBzdHlsZT0iY29sb3I6I2JhMGYyNztjdXJzb3I6ZGVmYXVsdDtmb250LXNpemU6MTFweDtmaWxsOiNiYTBmMjc7d2lkdGg6NzUuMDkwOTA5MDkwOTA5MTt0ZXh0LW92ZXJmbG93OmVsbGlwc2lzOyIgdGV4dC1hbmNob3I9Im1pZGRsZSIgdHJhbnNmb3JtPSJ0cmFuc2xhdGUoMCwwKSIgeT0iMTIxIiBvcGFjaXR5PSIxIj48dHNwYW4+MjAwNDwvdHNwYW4+PC90ZXh0Pjx0ZXh0IHg9IjYxNi4wOTA5MDkwOTA5MDkxIiBzdHlsZT0iY29sb3I6I2JhMGYyNztjdXJzb3I6ZGVmYXVsdDtmb250LXNpemU6MTFweDtmaWxsOiNiYTBmMjc7d2lkdGg6NzUuMDkwOTA5MDkwOTA5MTt0ZXh0LW92ZXJmbG93OmVsbGlwc2lzOyIgdGV4dC1hbmNob3I9Im1pZGRsZSIgdHJhbnNmb3JtPSJ0cmFuc2xhdGUoMCwwKSIgeT0iMTIxIiBvcGFjaXR5PSIxIj48dHNwYW4+MjAwNTwvdHNwYW4+PC90ZXh0Pjx0ZXh0IHg9IjY5MS4xODE4MTgxODE4MTgyIiBzdHlsZT0iY29sb3I6I2JhMGYyNztjdXJzb3I6ZGVmYXVsdDtmb250LXNpemU6MTFweDtmaWxsOiNiYTBmMjc7d2lkdGg6NzUuMDkwOTA5MDkwOTA5MTt0ZXh0LW92ZXJmbG93OmVsbGlwc2lzOyIgdGV4dC1hbmNob3I9Im1pZGRsZSIgdHJhbnNmb3JtPSJ0cmFuc2xhdGUoMCwwKSIgeT0iMTIxIiBvcGFjaXR5PSIxIj48dHNwYW4+MjAwNjwvdHNwYW4+PC90ZXh0Pjx0ZXh0IHg9Ijc2Ni4yNzI3MjcyNzI3MjczIiBzdHlsZT0iY29sb3I6I2JhMGYyNztjdXJzb3I6ZGVmYXVsdDtmb250LXNpemU6MTFweDtmaWxsOiNiYTBmMjc7d2lkdGg6NzUuMDkwOTA5MDkwOTA5MTt0ZXh0LW92ZXJmbG93OmVsbGlwc2lzOyIgdGV4dC1hbmNob3I9Im1pZGRsZSIgdHJhbnNmb3JtPSJ0cmFuc2xhdGUoMCwwKSIgeT0iMTIxIiBvcGFjaXR5PSIxIj48dHNwYW4+MjAwNzwvdHNwYW4+PC90ZXh0Pjx0ZXh0IHg9Ijg0MS4zNjM2MzYzNjM2MzY0IiBzdHlsZT0iY29sb3I6I2JhMGYyNztjdXJzb3I6ZGVmYXVsdDtmb250LXNpemU6MTFweDtmaWxsOiNiYTBmMjc7d2lkdGg6NzUuMDkwOTA5MDkwOTA5MTt0ZXh0LW92ZXJmbG93OmVsbGlwc2lzOyIgdGV4dC1hbmNob3I9Im1pZGRsZSIgdHJhbnNmb3JtPSJ0cmFuc2xhdGUoMCwwKSIgeT0iMTIxIiBvcGFjaXR5PSIxIj48dHNwYW4+MjAwODwvdHNwYW4+PC90ZXh0Pjx0ZXh0IHg9IjkxNi40NTQ1NDU0NTQ1NDU1IiBzdHlsZT0iY29sb3I6I2JhMGYyNztjdXJzb3I6ZGVmYXVsdDtmb250LXNpemU6MTFweDtmaWxsOiNiYTBmMjc7d2lkdGg6NzUuMDkwOTA5MDkwOTA5MTt0ZXh0LW92ZXJmbG93OmVsbGlwc2lzOyIgdGV4dC1hbmNob3I9Im1pZGRsZSIgdHJhbnNmb3JtPSJ0cmFuc2xhdGUoMCwwKSIgeT0iMTIxIiBvcGFjaXR5PSIxIj48dHNwYW4+MjAwOTwvdHNwYW4+PC90ZXh0PjwvZz48ZyBjbGFzcz0iaGlnaGNoYXJ0cy1heGlzLWxhYmVscyBoaWdoY2hhcnRzLXlheGlzLWxhYmVscyIgPjx0ZXh0IHg9Ijk2OSIgc3R5bGU9ImNvbG9yOiMwMDAwMDA7Y3Vyc29yOmRlZmF1bHQ7Zm9udC1zaXplOjExcHg7ZmlsbDojMDAwMDAwO3dpZHRoOjMzM3B4O3RleHQtb3ZlcmZsb3c6Y2xpcDsiIHRleHQtYW5jaG9yPSJzdGFydCIgdHJhbnNmb3JtPSJ0cmFuc2xhdGUoMCwwKSIgeT0iMzM2IiBvcGFjaXR5PSIxIj48dHNwYW4+MCBmaWxtczwvdHNwYW4+PC90ZXh0Pjx0ZXh0IHg9Ijk2OSIgc3R5bGU9ImNvbG9yOiMwMDAwMDA7Y3Vyc29yOmRlZmF1bHQ7Zm9udC1zaXplOjExcHg7ZmlsbDojMDAwMDAwO3dpZHRoOjMzM3B4O3RleHQtb3ZlcmZsb3c6Y2xpcDsiIHRleHQtYW5jaG9yPSJzdGFydCIgdHJhbnNmb3JtPSJ0cmFuc2xhdGUoMCwwKSIgeT0iMjcwIiBvcGFjaXR5PSIxIj48dHNwYW4+MiBmaWxtczwvdHNwYW4+PC90ZXh0Pjx0ZXh0IHg9Ijk2OSIgc3R5bGU9ImNvbG9yOiMwMDAwMDA7Y3Vyc29yOmRlZmF1bHQ7Zm9udC1zaXplOjExcHg7ZmlsbDojMDAwMDAwO3dpZHRoOjMzM3B4O3RleHQtb3ZlcmZsb3c6Y2xpcDsiIHRleHQtYW5jaG9yPSJzdGFydCIgdHJhbnNmb3JtPSJ0cmFuc2xhdGUoMCwwKSIgeT0iMjA1IiBvcGFjaXR5PSIxIj48dHNwYW4+NCBmaWxtczwvdHNwYW4+PC90ZXh0Pjx0ZXh0IHg9Ijk2OSIgc3R5bGU9ImNvbG9yOiMwMDAwMDA7Y3Vyc29yOmRlZmF1bHQ7Zm9udC1zaXplOjExcHg7ZmlsbDojMDAwMDAwO3dpZHRoOjMzM3B4O3RleHQtb3ZlcmZsb3c6Y2xpcDsiIHRleHQtYW5jaG9yPSJzdGFydCIgdHJhbnNmb3JtPSJ0cmFuc2xhdGUoMCwwKSIgeT0iMTQwIiBvcGFjaXR5PSIxIj48dHNwYW4+NiBmaWxtczwvdHNwYW4+PC90ZXh0PjwvZz48ZyBjbGFzcz0iaGlnaGNoYXJ0cy1heGlzLWxhYmVscyBoaWdoY2hhcnRzLXlheGlzLWxhYmVscyIgPjx0ZXh0IHg9IjExMyIgc3R5bGU9ImNvbG9yOiNiYTBmMjc7Y3Vyc29yOmRlZmF1bHQ7Zm9udC1zaXplOjExcHg7ZmlsbDojYmEwZjI3O3dpZHRoOjMzM3B4O3RleHQtb3ZlcmZsb3c6Y2xpcDsiIHRleHQtYW5jaG9yPSJlbmQiIHRyYW5zZm9ybT0idHJhbnNsYXRlKDAsMCkiIHk9IjMzNiIgb3BhY2l0eT0iMSI+PHRzcGFuPjgwIGRyb3duaW5nczwvdHNwYW4+PC90ZXh0Pjx0ZXh0IHg9IjExMyIgc3R5bGU9ImNvbG9yOiNiYTBmMjc7Y3Vyc29yOmRlZmF1bHQ7Zm9udC1zaXplOjExcHg7ZmlsbDojYmEwZjI3O3dpZHRoOjMzM3B4O3RleHQtb3ZlcmZsb3c6Y2xpcDsiIHRleHQtYW5jaG9yPSJlbmQiIHRyYW5zZm9ybT0idHJhbnNsYXRlKDAsMCkiIHk9IjI3MCIgb3BhY2l0eT0iMSI+PHRzcGFuPjEwMCBkcm93bmluZ3M8L3RzcGFuPjwvdGV4dD48dGV4dCB4PSIxMTMiIHN0eWxlPSJjb2xvcjojYmEwZjI3O2N1cnNvcjpkZWZhdWx0O2ZvbnQtc2l6ZToxMXB4O2ZpbGw6I2JhMGYyNzt3aWR0aDozMzNweDt0ZXh0LW92ZXJmbG93OmNsaXA7IiB0ZXh0LWFuY2hvcj0iZW5kIiB0cmFuc2Zvcm09InRyYW5zbGF0ZSgwLDApIiB5PSIyMDUiIG9wYWNpdHk9IjEiPjx0c3Bhbj4xMjAgZHJvd25pbmdzPC90c3Bhbj48L3RleHQ+PHRleHQgeD0iMTEzIiBzdHlsZT0iY29sb3I6I2JhMGYyNztjdXJzb3I6ZGVmYXVsdDtmb250LXNpemU6MTFweDtmaWxsOiNiYTBmMjc7d2lkdGg6MzMzcHg7dGV4dC1vdmVyZmxvdzpjbGlwOyIgdGV4dC1hbmNob3I9ImVuZCIgdHJhbnNmb3JtPSJ0cmFuc2xhdGUoMCwwKSIgeT0iMTQwIiBvcGFjaXR5PSIxIj48dHNwYW4+MTQwIGRyb3duaW5nczwvdHNwYW4+PC90ZXh0PjwvZz48ZyBjbGFzcz0iaGlnaGNoYXJ0cy10b29sdGlwIiAgc3R5bGU9ImN1cnNvcjpkZWZhdWx0O3BhZGRpbmc6MDt3aGl0ZS1zcGFjZTpub3dyYXA7IiB0cmFuc2Zvcm09InRyYW5zbGF0ZSgwLC05OTk5KSI+PHBhdGggZmlsbD0ibm9uZSIgZD0iTSAzIDAgTCAxMyAwIEMgMTYgMCAxNiAwIDE2IDMgTCAxNiAxMyBDIDE2IDE2IDE2IDE2IDEzIDE2IEwgMyAxNiBDIDAgMTYgMCAxNiAwIDEzIEwgMCAzIEMgMCAwIDAgMCAzIDAiICBzdHJva2U9ImJsYWNrIiBzdHJva2Utb3BhY2l0eT0iMC4wNDk5OTk5OTk5OTk5OTk5OTYiIHN0cm9rZS13aWR0aD0iNSIgdHJhbnNmb3JtPSJ0cmFuc2xhdGUoMSwgMSkiPjwvcGF0aD48cGF0aCBmaWxsPSJub25lIiBkPSJNIDMgMCBMIDEzIDAgQyAxNiAwIDE2IDAgMTYgMyBMIDE2IDEzIEMgMTYgMTYgMTYgMTYgMTMgMTYgTCAzIDE2IEMgMCAxNiAwIDE2IDAgMTMgTCAwIDMgQyAwIDAgMCAwIDMgMCIgIHN0cm9rZT0iYmxhY2siIHN0cm9rZS1vcGFjaXR5PSIwLjA5OTk5OTk5OTk5OTk5OTk5IiBzdHJva2Utd2lkdGg9IjMiIHRyYW5zZm9ybT0idHJhbnNsYXRlKDEsIDEpIj48L3BhdGg+PHBhdGggZmlsbD0ibm9uZSIgZD0iTSAzIDAgTCAxMyAwIEMgMTYgMCAxNiAwIDE2IDMgTCAxNiAxMyBDIDE2IDE2IDE2IDE2IDEzIDE2IEwgMyAxNiBDIDAgMTYgMCAxNiAwIDEzIEwgMCAzIEMgMCAwIDAgMCAzIDAiICBzdHJva2U9ImJsYWNrIiBzdHJva2Utb3BhY2l0eT0iMC4xNSIgc3Ryb2tlLXdpZHRoPSIxIiB0cmFuc2Zvcm09InRyYW5zbGF0ZSgxLCAxKSI+PC9wYXRoPjxwYXRoIGZpbGw9InJnYigyNDksIDI0OSwgMjQ5KSIgZmlsbC1vcGFjaXR5PSIgLjg1IiBkPSJNIDMgMCBMIDEzIDAgQyAxNiAwIDE2IDAgMTYgMyBMIDE2IDEzIEMgMTYgMTYgMTYgMTYgMTMgMTYgTCAzIDE2IEMgMCAxNiAwIDE2IDAgMTMgTCAwIDMgQyAwIDAgMCAwIDMgMCI+PC9wYXRoPjx0ZXh0IHg9IjgiICBzdHlsZT0iZm9udC1zaXplOjEycHg7Y29sb3I6IzMzMzMzMztmaWxsOiMzMzMzMzM7IiB0cmFuc2Zvcm09InRyYW5zbGF0ZSgwLDIwKSI+PC90ZXh0PjwvZz48dGV4dCB4PSIxMDMwIiB0ZXh0LWFuY2hvcj0iZW5kIiAgc3R5bGU9ImN1cnNvcjpwb2ludGVyO2NvbG9yOiM5MDkwOTA7Zm9udC1zaXplOjlweDtmaWxsOiM5MDkwOTA7IiB5PSI0MDUiPnR5bGVydmlnZW4uY29tPC90ZXh0Pjwvc3ZnPg=="
     ]
    }
   },
   "cell_type": "markdown",
   "metadata": {},
   "source": [
    "** Note: Be prepared to revise your assumptions!** \n",
    "You've heard it a million times - Not every correlation is causal!\n",
    "\n",
    "![NicolasCagePools.svg](attachment:chart.svg)\n",
    "\n",
    "[More examples of correlations that do not indicate a causal relationship](http://www.tylervigen.com/spurious-correlations)\n",
    "\n",
    "The best answers will put your experience to work! While it is clearly unreasonable to assert that Nicolas Cage's popularity caused all those pool accidents, it's less clear to us non-producers if, for example, filming in one city will result in more box-office revenue than filming in another. What can we do? *Isolate your variables* to truly test your assumptions.\n",
    "\n",
    "** Ask the best question you can**\n",
    "1. Use your experience, research, or \"educated guess\" to narrow yourself to one question.\n",
    "2. Rewrite your question as a correlation.\n",
    "3. Assure that you are asking one question for each of your variables."
   ]
  },
  {
   "cell_type": "markdown",
   "metadata": {},
   "source": [
    "# Getting good data "
   ]
  },
  {
   "cell_type": "markdown",
   "metadata": {},
   "source": [
    "The type of data that we have has the potential to limit the types of questions that we can answer. Knowing how to access, clean, and curate good data is an essential skill for most data practioners.  \n",
    "\n",
    "## What are some good places to get data? \n",
    "\n",
    "There are a lot of good places to get data! If you want to start looking at some data sets, here are a few repositories. \n",
    "   - [Kaggle](https://www.kaggle.com/datasets)  \n",
    "   - [FiveThirtyEight](https://data.fivethirtyeight.com/)\n",
    "   - [Government Data](https://catalog.data.gov/dataset)\n",
    "   - APIs (e.g. [IMDBPy](https://imdbpy.sourceforge.io/), [Twitter](https://developer.twitter.com/en/docs/api-reference-index), etc.)\n",
    "   - Scraping the Internet! \n",
    "    \n",
    "### What sites should you scrape? \n",
    "\n",
    "When you want to find a certain type of data, try to find data that is structured (e.g. Wikipedia). Tables, headings, and text boxes stand out, and can be easier to find. **Remember to read the Terms of Service for the site that you plan to scrape.**\n",
    "\n",
    "<img src=\"img/scrapingsites.png\"\n",
    "     alt=\"Example Data sources\"\n",
    "     style=\"float: left; margin-right: 10px;\"/>\n",
    "\n",
    "\n",
    "### Try it out! \n",
    "\n",
    "We are going to use data to make **The Best Movie Ever**, but what are some good places for us to get that data? "
   ]
  },
  {
   "cell_type": "markdown",
   "metadata": {},
   "source": [
    "*type your answer here*"
   ]
  },
  {
   "cell_type": "markdown",
   "metadata": {},
   "source": [
    "## Start scraping \n",
    "\n",
    "To get started, we need to import several packages. We explain what several of these imports are below in the comments. "
   ]
  },
  {
   "cell_type": "code",
   "execution_count": 5,
   "metadata": {
    "collapsed": false
   },
   "outputs": [],
   "source": [
    "# The %... is an iPython thing, and is not part of the Python language.\n",
    "# In this case we're just telling the plotting library to draw things on\n",
    "# the notebook, instead of on a separate window.\n",
    "%matplotlib inline \n",
    "# See all the \"as ...\" contructs? They're just aliasing the package names.\n",
    "# That way we can call methods like plt.plot() instead of matplotlib.pyplot.plot().\n",
    "from matplotlib import rcParams # special matplotlib argument for improved plots\n",
    "from collections import defaultdict \n",
    "#from imdb import IMDb\n",
    "\n",
    "import numpy as np\n",
    "import pandas as pd\n",
    "import scipy.stats as stats\n",
    "import matplotlib.pyplot as plt\n",
    "import statsmodels.api as sm\n",
    "import cPickle as pickle\n",
    "import seaborn as sns\n",
    "# sns.set_style(\"whitegrid\")\n",
    "# sns.set_context(\"poster\")\n",
    "\n",
    "import io \n",
    "import time\n",
    "import requests\n",
    "import sklearn\n",
    "import warnings\n",
    "warnings.filterwarnings('ignore')"
   ]
  },
  {
   "cell_type": "markdown",
   "metadata": {},
   "source": [
    "We use [Seaborn](http://seaborn.pydata.org/) to give us a nicer default color palette, with our plots being of large (poster) size and with a white-grid background. "
   ]
  },
  {
   "cell_type": "markdown",
   "metadata": {},
   "source": [
    "### Scrape Box Office Mojo \n",
    "\n",
    "To get the text from the website to your local machine, we will use a GET request, which is available in the [Requests](http://docs.python-requests.org/en/master/) library. \n",
    "\n",
    "To get started exploring the text that you bring to your local machine, we will use [Beautiful Soup](https://www.crummy.com/software/BeautifulSoup/). If you are familiar with another scraping library like [PyQuery](https://pythonhosted.org/pyquery/) or [Scrapy](https://scrapy.org/), feel free to do this exercise using those instead (or in addition! :)). "
   ]
  },
  {
   "cell_type": "code",
   "execution_count": 6,
   "metadata": {
    "collapsed": true
   },
   "outputs": [],
   "source": [
    "from bs4 import BeautifulSoup\n",
    "# The \"requests\" library makes working with HTTP requests easier\n",
    "# than the built-in urllib libraries.\n",
    "import requests\n",
    "import time"
   ]
  },
  {
   "cell_type": "markdown",
   "metadata": {},
   "source": [
    "Here, we access a webpage and download the HTML using requests. When we make a GET response, we get an HTTP response object back. "
   ]
  },
  {
   "cell_type": "code",
   "execution_count": 8,
   "metadata": {
    "collapsed": false
   },
   "outputs": [],
   "source": [
    "r_2018 = requests.get(\"http://www.boxofficemojo.com/yearly/chart/?view=releasedate&view2=domestic&page=1&yr=2018\")\n",
    "time.sleep(1) # sleeping is important!"
   ]
  },
  {
   "cell_type": "markdown",
   "metadata": {},
   "source": [
    "You should get a HTTP response 200, which means that the request went through without issue. If you get another HTTP response, you can look it up in [this list](https://en.wikipedia.org/wiki/List_of_HTTP_status_codes) to determine what it is. \n",
    "\n",
    "Alternatively, if you like your HTTP status codes illustrated as cat gifs, you can look up your codes using [http.cat](https://http.cat/)."
   ]
  },
  {
   "cell_type": "code",
   "execution_count": 9,
   "metadata": {
    "collapsed": false
   },
   "outputs": [
    {
     "name": "stdout",
     "output_type": "stream",
     "text": [
      "<Response [200]>\n"
     ]
    }
   ],
   "source": [
    "print r_2018"
   ]
  },
  {
   "cell_type": "markdown",
   "metadata": {},
   "source": [
    "There are a lot of awesome things going in this response object. Most relevantly, it has returned all the text from the page that we made the request from to us, so we can look at it on our local machine. "
   ]
  },
  {
   "cell_type": "code",
   "execution_count": 10,
   "metadata": {
    "collapsed": true
   },
   "outputs": [],
   "source": [
    "## uncomment the line below to see the html returned by the response \n",
    "#print r_2018.text"
   ]
  },
  {
   "cell_type": "markdown",
   "metadata": {},
   "source": [
    "While this blob of text is not difficult for our computer to search through, it can be a little difficult for us to wrap human brains around. Some other ways that we can look at the text are: \n",
    "\n",
    "(a) Right click > View Source. \n",
    "\n",
    "@help insert screen shot \n",
    "\n",
    "(b) Right click > Inspect Item \n",
    "\n",
    "@help insert screen shot \n",
    "\n",
    "(c) View > Developer > Developer Tools \n",
    "\n",
    "@help insert screen shot "
   ]
  },
  {
   "cell_type": "markdown",
   "metadata": {},
   "source": [
    "### Try it out! \n",
    "\n",
    "### Understanding the HTML \n",
    "\n",
    "Which parts of this text do we need to get information about these movies? How can we pull out only the information that we want? "
   ]
  },
  {
   "cell_type": "markdown",
   "metadata": {},
   "source": [
    "*double-click to type your answer here*"
   ]
  },
  {
   "cell_type": "markdown",
   "metadata": {},
   "source": [
    "### Try it out!\n",
    "\n",
    "### Requests \n",
    "\n",
    "Scrape [Box Office Mojo's](http://www.boxofficemojo.com/yearly/chart/?yr=2018&p=1) data for movies from 2016 to 2018 and store the page text in a dictionary. **Remember to use the time(s) function to add a wait before each GET request.** "
   ]
  },
  {
   "cell_type": "code",
   "execution_count": 11,
   "metadata": {
    "collapsed": false
   },
   "outputs": [],
   "source": [
    "# Your answer here\n",
    "years = xrange(2016,2018)\n",
    "pages = xrange(1,9)\n",
    "year_pagetxt = {}\n",
    "for year in years: \n",
    "    pagestext = {}\n",
    "    for page in pages: \n",
    "        r = requests.get(\"http://www.boxofficemojo.com/yearly/chart/?page=%s&view=releasedate&view2=domestic&yr=%s&p=.htm\"%(page, year))\n",
    "        pagestext[page] = r.text\n",
    "        time.sleep(1)\n",
    "    year_pagetxt[year] = pagestext"
   ]
  },
  {
   "cell_type": "markdown",
   "metadata": {},
   "source": [
    "### Beautiful Soup \n",
    "\n",
    "Beautiful Soup makes our HTML text queryable. Once you run a command like the one below, you can think of your HTML as a tree made of nodes as shown. \n",
    "\n",
    "You can do things like finding every html attribute of a certain type. Look at the [Beautiful Soup](https://www.crummy.com/software/BeautifulSoup/bs4/doc/) documentation to explore some of the commands that you can make. \n",
    "\n",
    "> soup  ==  BeautifulSoup(page_text, \"html.parser\")\n",
    "\n",
    "<img src=\"img/beautifulsoup.png\"\n",
    "     alt=\"Example Data sources\"\n",
    "     style=\"float: left; margin-right: 10px;\"/>"
   ]
  },
  {
   "cell_type": "markdown",
   "metadata": {},
   "source": [
    "### Try it out! \n",
    "\n",
    "Store the information from the table in the dictionary with the column heading as the key and a list of values as the value. "
   ]
  },
  {
   "cell_type": "code",
   "execution_count": 12,
   "metadata": {
    "collapsed": true
   },
   "outputs": [],
   "source": [
    "# Your answer here \n",
    "\n",
    "# This loop cycles through the data obtained on Box Office Mojo\n",
    "## And placed in a dictionary for recall later when folding in IMDb information\n",
    "movie_budget = defaultdict(list) \n",
    "for year in years: \n",
    "    for page in pages: \n",
    "        soup = BeautifulSoup(year_pagetxt[year][page], \"html.parser\")\n",
    "        rows = soup.find_all(\"font\", attrs={'size':'2'})\n",
    "           \n",
    "        start = 10 \n",
    "        for i in range(start,len(rows)-2):\n",
    "            t = rows[i].get_text()\n",
    "            if unicode('Summary of') in t: \n",
    "                break\n",
    "            elif (i-start) % 9 == 0: \n",
    "                movie_budget['rank'].append(t)\n",
    "            elif (i-start) % 9 == 1: \n",
    "                movie_budget['year'].append(year)\n",
    "                r = '('+str(year)\n",
    "                if unicode(r) in t: \n",
    "                    j = t.index(unicode(r))\n",
    "                    movie_budget['title'].append(t[:j])\n",
    "                else: \n",
    "                    movie_budget['title'].append(t)\n",
    "            elif (i-start) % 9 == 2: \n",
    "                movie_budget['studio'].append(t)\n",
    "            elif (i-start) % 9 == 3: \n",
    "                movie_budget['gross'].append(t)\n",
    "            elif (i-start) % 9 == 4: \n",
    "                movie_budget['gross theaters'].append(t)\n",
    "            elif (i-start) % 9 == 5: \n",
    "                movie_budget['opening'].append(t)\n",
    "            elif (i-start) % 9 == 6: \n",
    "                movie_budget['opening theaters'].append(t)\n",
    "            elif (i-start) % 9 == 7: \n",
    "                movie_budget['open'].append(t)\n",
    "            elif (i-start) % 9 == 8: \n",
    "                movie_budget['close'].append(t)"
   ]
  },
  {
   "cell_type": "markdown",
   "metadata": {},
   "source": [
    "# Exploratory Data Analysis Preview "
   ]
  },
  {
   "cell_type": "markdown",
   "metadata": {},
   "source": [
    "Before we do any fancy statistical modeling, we need to understand our data. To do this, there is no substitute for looking at our data, making some scatter plots, and getting a better idea of how the data looks. \n",
    "\n",
    "### Load the data\n",
    "\n",
    "@help describe the data "
   ]
  },
  {
   "cell_type": "code",
   "execution_count": 27,
   "metadata": {
    "collapsed": false
   },
   "outputs": [
    {
     "name": "stdout",
     "output_type": "stream",
     "text": [
      "(815, 25)\n"
     ]
    },
    {
     "data": {
      "text/html": [
       "<div>\n",
       "<table border=\"1\" class=\"dataframe\">\n",
       "  <thead>\n",
       "    <tr style=\"text-align: right;\">\n",
       "      <th></th>\n",
       "      <th>budget</th>\n",
       "      <th>cast</th>\n",
       "      <th>close</th>\n",
       "      <th>director</th>\n",
       "      <th>gross</th>\n",
       "      <th>mpaa</th>\n",
       "      <th>open</th>\n",
       "      <th>opening_gross</th>\n",
       "      <th>opening_theaters</th>\n",
       "      <th>rank</th>\n",
       "      <th>...</th>\n",
       "      <th>Jan-May</th>\n",
       "      <th>Dec</th>\n",
       "      <th>June-Sep</th>\n",
       "      <th>Oct-Nov</th>\n",
       "      <th>mpaa_new</th>\n",
       "      <th>PG</th>\n",
       "      <th>R</th>\n",
       "      <th>PG-13</th>\n",
       "      <th>prol_studio</th>\n",
       "      <th>Tier_2</th>\n",
       "    </tr>\n",
       "  </thead>\n",
       "  <tbody>\n",
       "    <tr>\n",
       "      <th>0327597</th>\n",
       "      <td>60000000.0</td>\n",
       "      <td>None</td>\n",
       "      <td>7/2</td>\n",
       "      <td>None</td>\n",
       "      <td>75286229.0</td>\n",
       "      <td>Rated PG for thematic elements, scary images, ...</td>\n",
       "      <td>2/6</td>\n",
       "      <td>16849640.0</td>\n",
       "      <td>2299.0</td>\n",
       "      <td>43</td>\n",
       "      <td>...</td>\n",
       "      <td>True</td>\n",
       "      <td>False</td>\n",
       "      <td>False</td>\n",
       "      <td>False</td>\n",
       "      <td>PG</td>\n",
       "      <td>True</td>\n",
       "      <td>False</td>\n",
       "      <td>False</td>\n",
       "      <td>False</td>\n",
       "      <td>True</td>\n",
       "    </tr>\n",
       "    <tr>\n",
       "      <th>0337692</th>\n",
       "      <td>25000000.0</td>\n",
       "      <td>None</td>\n",
       "      <td>5/24</td>\n",
       "      <td>None</td>\n",
       "      <td>92476.0</td>\n",
       "      <td>Rated R for strong sexual content, drug use an...</td>\n",
       "      <td>5/11</td>\n",
       "      <td>56692.0</td>\n",
       "      <td>50.0</td>\n",
       "      <td>372</td>\n",
       "      <td>...</td>\n",
       "      <td>True</td>\n",
       "      <td>False</td>\n",
       "      <td>False</td>\n",
       "      <td>False</td>\n",
       "      <td>R</td>\n",
       "      <td>False</td>\n",
       "      <td>True</td>\n",
       "      <td>False</td>\n",
       "      <td>False</td>\n",
       "      <td>False</td>\n",
       "    </tr>\n",
       "    <tr>\n",
       "      <th>0359950</th>\n",
       "      <td>91000000.0</td>\n",
       "      <td>None</td>\n",
       "      <td>4/10</td>\n",
       "      <td>None</td>\n",
       "      <td>58236838.0</td>\n",
       "      <td>Rated PG for some crude comments, language and...</td>\n",
       "      <td>12/25</td>\n",
       "      <td>12765508.0</td>\n",
       "      <td>2909.0</td>\n",
       "      <td>60</td>\n",
       "      <td>...</td>\n",
       "      <td>False</td>\n",
       "      <td>True</td>\n",
       "      <td>False</td>\n",
       "      <td>False</td>\n",
       "      <td>PG</td>\n",
       "      <td>True</td>\n",
       "      <td>False</td>\n",
       "      <td>False</td>\n",
       "      <td>True</td>\n",
       "      <td>False</td>\n",
       "    </tr>\n",
       "    <tr>\n",
       "      <th>0361748</th>\n",
       "      <td>70000000.0</td>\n",
       "      <td>None</td>\n",
       "      <td>12/17</td>\n",
       "      <td>None</td>\n",
       "      <td>120540719.0</td>\n",
       "      <td>Rated R for strong graphic violence, language ...</td>\n",
       "      <td>8/21</td>\n",
       "      <td>38054676.0</td>\n",
       "      <td>3165.0</td>\n",
       "      <td>25</td>\n",
       "      <td>...</td>\n",
       "      <td>False</td>\n",
       "      <td>False</td>\n",
       "      <td>True</td>\n",
       "      <td>False</td>\n",
       "      <td>R</td>\n",
       "      <td>False</td>\n",
       "      <td>True</td>\n",
       "      <td>False</td>\n",
       "      <td>False</td>\n",
       "      <td>False</td>\n",
       "    </tr>\n",
       "    <tr>\n",
       "      <th>0362478</th>\n",
       "      <td>25000000.0</td>\n",
       "      <td>None</td>\n",
       "      <td>1/7</td>\n",
       "      <td>None</td>\n",
       "      <td>15051977.0</td>\n",
       "      <td>Rated PG-13 for thematic elements, some violen...</td>\n",
       "      <td>11/6</td>\n",
       "      <td>7571417.0</td>\n",
       "      <td>2635.0</td>\n",
       "      <td>125</td>\n",
       "      <td>...</td>\n",
       "      <td>False</td>\n",
       "      <td>False</td>\n",
       "      <td>False</td>\n",
       "      <td>True</td>\n",
       "      <td>PG-13</td>\n",
       "      <td>False</td>\n",
       "      <td>False</td>\n",
       "      <td>True</td>\n",
       "      <td>True</td>\n",
       "      <td>False</td>\n",
       "    </tr>\n",
       "  </tbody>\n",
       "</table>\n",
       "<p>5 rows × 25 columns</p>\n",
       "</div>"
      ],
      "text/plain": [
       "             budget  cast  close director        gross  \\\n",
       "0327597  60000000.0  None    7/2     None   75286229.0   \n",
       "0337692  25000000.0  None   5/24     None      92476.0   \n",
       "0359950  91000000.0  None   4/10     None   58236838.0   \n",
       "0361748  70000000.0  None  12/17     None  120540719.0   \n",
       "0362478  25000000.0  None    1/7     None   15051977.0   \n",
       "\n",
       "                                                      mpaa   open  \\\n",
       "0327597  Rated PG for thematic elements, scary images, ...    2/6   \n",
       "0337692  Rated R for strong sexual content, drug use an...   5/11   \n",
       "0359950  Rated PG for some crude comments, language and...  12/25   \n",
       "0361748  Rated R for strong graphic violence, language ...   8/21   \n",
       "0362478  Rated PG-13 for thematic elements, some violen...   11/6   \n",
       "\n",
       "         opening_gross  opening_theaters rank  ...    Jan-May    Dec June-Sep  \\\n",
       "0327597     16849640.0            2299.0   43  ...       True  False    False   \n",
       "0337692        56692.0              50.0  372  ...       True  False    False   \n",
       "0359950     12765508.0            2909.0   60  ...      False   True    False   \n",
       "0361748     38054676.0            3165.0   25  ...      False  False     True   \n",
       "0362478      7571417.0            2635.0  125  ...      False  False    False   \n",
       "\n",
       "        Oct-Nov mpaa_new     PG      R  PG-13 prol_studio Tier_2  \n",
       "0327597   False       PG   True  False  False       False   True  \n",
       "0337692   False        R  False   True  False       False  False  \n",
       "0359950   False       PG   True  False  False        True  False  \n",
       "0361748   False        R  False   True  False       False  False  \n",
       "0362478    True    PG-13  False  False   True        True  False  \n",
       "\n",
       "[5 rows x 25 columns]"
      ]
     },
     "execution_count": 27,
     "metadata": {},
     "output_type": "execute_result"
    }
   ],
   "source": [
    "df = pickle.load(io.open('df.p', 'rb'))\n",
    "print df.shape\n",
    "df.head()"
   ]
  },
  {
   "cell_type": "markdown",
   "metadata": {},
   "source": [
    "### Some Features to Explore \n",
    "\n",
    "- **Movie Budget**\n",
    "- **Opening Weekend**\n",
    "- **Opening Theaters**\n",
    "- **IMDb rating**\n",
    "- **Seasonality**\n",
    "- **MPAA Rating**\n",
    "- **Power Studios**"
   ]
  },
  {
   "cell_type": "markdown",
   "metadata": {},
   "source": [
    "## Example correlation plots \n",
    "\n",
    "Remember, the goal of all of this data analysis is to make a ton of money, so it might make sense to see how each of these factors correlate with **gross revenue**. \n",
    "\n",
    "### Linear regression \n",
    "\n",
    "One nice way of exploring how two variables look in relationship to one another is to make a regression plot. A nice explanation of linear regression can be found [here](https://jakevdp.github.io/PythonDataScienceHandbook/05.06-linear-regression.html). Most data analysis tools have some way of doing linear regression. In this tutorial, we will use the [seaborn regplot](https://seaborn.pydata.org/tutorial/regression.html) to plot regressions.  "
   ]
  },
  {
   "cell_type": "markdown",
   "metadata": {},
   "source": [
    "#### Gross Revenue vs. Opening Weekend Revenue"
   ]
  },
  {
   "cell_type": "code",
   "execution_count": 38,
   "metadata": {
    "collapsed": false
   },

   "outputs": [
    {
     "data": {
      "text/plain": [
       "<matplotlib.axes._subplots.AxesSubplot at 0x119ff2a90>"
      ]
     },
     "execution_count": 38,
     "metadata": {},
     "output_type": "execute_result"
    },
    {
     "data": {
      "image/png": "[encoded data removed]",
      "text/plain": [
       "<matplotlib.figure.Figure at 0x109b8d590>"
      ]
     },
     "metadata": {},
     "output_type": "display_data"
    }
   ],
   "source": [
    "sns.regplot(y=\"gross\", x=\"opening_gross\", data=df, fit_reg = True)"
   ]
  },
  {
   "cell_type": "markdown",
   "metadata": {},
   "source": [
    "### What does this plot tell us? "
   ]
  },
  {
   "cell_type": "markdown",
   "metadata": {},
   "source": [
    "*your answer here*"
   ]
  },
  {
   "cell_type": "markdown",
   "metadata": {},
   "source": [
    "#### Gross Revenue vs. Opening Weekend Revenue"
   ]
  },
  {
   "cell_type": "code",
   "execution_count": 39,
   "metadata": {
    "collapsed": false
   },
   "outputs": [
    {
     "data": {
      "text/plain": [
       "<matplotlib.axes._subplots.AxesSubplot at 0x119957690>"
      ]
     },
     "execution_count": 39,
     "metadata": {},
     "output_type": "execute_result"
    },
    {
     "data": {
      "image/png": "[encoded data removed]",
      "text/plain": [
       "<matplotlib.figure.Figure at 0x119c23dd0>"
      ]
     },
     "metadata": {},
     "output_type": "display_data"
    }
   ],
   "source": [
    "sns.regplot(y=\"gross\", x=\"opening_theaters\", data=df, fit_reg = True)"
   ]
  },
  {
   "cell_type": "markdown",
   "metadata": {},
   "source": [
    "### What does this plot tell us? "
   ]
  },
  {
   "cell_type": "markdown",
   "metadata": {},
   "source": [
    "*your answer here*"
   ]
  },
  {
   "cell_type": "markdown",
   "metadata": {},
   "source": [
    "#### Gross Revenue vs Allocated Budget "
   ]
  },
  {
   "cell_type": "code",
   "execution_count": 40,
   "metadata": {
    "collapsed": false
   },
   "outputs": [
    {
     "data": {
      "text/plain": [
       "<matplotlib.axes._subplots.AxesSubplot at 0x10431b2d0>"
      ]
     },
     "execution_count": 40,
     "metadata": {},
     "output_type": "execute_result"
    },
    {
     "data": {
      "image/png": "[encoded data removed]",
      "text/plain": [
       "<matplotlib.figure.Figure at 0x11b315650>"
      ]
     },
     "metadata": {},
     "output_type": "display_data"
    }
   ],
   "source": [
    "sns.regplot(y=\"gross\", x=\"budget\", data=df, fit_reg = True)"
   ]
  },
  {
   "cell_type": "markdown",
   "metadata": {},
   "source": [
    "### What does this plot tell us? "
   ]
  },
  {
   "cell_type": "markdown",
   "metadata": {},
   "source": [
    "*your answer here*"
   ]
  },
  {
   "cell_type": "markdown",
   "metadata": {},
   "source": [
    "#### Gross revenue vs IMDB rating "
   ]
  },
  {
   "cell_type": "code",
   "execution_count": 41,
   "metadata": {
    "collapsed": false
   },
   "outputs": [
    {
     "data": {
      "text/plain": [
       "<matplotlib.axes._subplots.AxesSubplot at 0x11b344510>"
      ]
     },
     "execution_count": 41,
     "metadata": {},
     "output_type": "execute_result"
    },
    {
     "data": {
      "image/png": "[encoded data removed]",
      "text/plain": [
       "<matplotlib.figure.Figure at 0x11b01ec10>"
      ]
     },
     "metadata": {},
     "output_type": "display_data"
    }
   ],
   "source": [
    "sns.regplot(y=\"gross\", x=\"rating\", data=df, fit_reg = True)"
   ]
  },
  {
   "cell_type": "markdown",
   "metadata": {},
   "source": [
    "### What does this plot tell us? "
   ]
  },
  {
   "cell_type": "markdown",
   "metadata": {},
   "source": [
    "*your answer here*"
   ]
  },
  {
   "cell_type": "markdown",
   "metadata": {},
   "source": [
    "### Bonus: What other features? \n",
    "\n",
    "There is always more to explore and discover in the data. Is there anything else that you wish that we had explored together? If so, feel free to try it out now! \n",
    "\n",
    "If you find yourself feeling stuck, you can check out [oscarpredictor.github.io](http://oscarpredictor.github.io/) for inspiration. "
   ]
  },
  {
   "cell_type": "code",
   "execution_count": null,
   "metadata": {
    "collapsed": true
   },
   "outputs": [],
   "source": []
  }
 ],
 "metadata": {
  "anaconda-cloud": {},
  "kernelspec": {
   "display_name": "Python 3",
   "language": "python",
   "name": "python3"
  },
  "language_info": {
   "codemirror_mode": {
    "name": "ipython",
    "version": 3
   },
   "file_extension": ".py",
   "mimetype": "text/x-python",
   "name": "python",
   "nbconvert_exporter": "python",
   "pygments_lexer": "ipython3",
   "version": "3.6.3"
  }
 },
 "nbformat": 4,
 "nbformat_minor": 1
}
