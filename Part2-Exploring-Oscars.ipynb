{
 "cells": [
  {
   "cell_type": "markdown",
   "metadata": {},
   "source": [
    "# Goals \n",
    "\n",
    "The goal of this part of the tutorial is build your skills in: \n",
    "   - Asking good questions \n",
    "   - Working with data  \n",
    "   - Learn about a few types of regression\n",
    "       - Linear regression\n",
    "       - Logistic regression \n",
    "       - Lasso regression \n",
    "   - Fit a model \n",
    "   - Evaluate the model, using accuracy and ROC \n",
    "   - Predicting whether a movie will win an Oscar"
   ]
  },
  {
   "cell_type": "markdown",
   "metadata": {},
   "source": [
    "# Ask a good question \n",
    "\n",
    "We want to know what will make a movie an Oscar Winner, but how can we ask this in a way that we can answer it given the data that we have? "
   ]
  },
  {
   "cell_type": "markdown",
   "metadata": {},
   "source": [
    "*your answer here*"
   ]
  },
  {
   "cell_type": "markdown",
   "metadata": {},
   "source": [
    "# Regression \n",
    "\n",
    "## Linear Regression\n",
    "\n",
    "Error minimization: Ordinary least squares \n",
    "Outcome: Continuous \n",
    "\n",
    "## Logistic Regression \n",
    "\n",
    "Error minimization: Maximum likelihood \n",
    "Outcome: Binary \n",
    "\n",
    "## Lasso Regression "
   ]
  },
  {
   "cell_type": "markdown",
   "metadata": {},
   "source": [
    "# Fit models "
   ]
  },
  {
   "cell_type": "markdown",
   "metadata": {},
   "source": [
    "# Evaluate model performance \n",
    "\n",
    "## Look at accuracy \n",
    "\n",
    "One way to evaluate our model is look at its accuracy. For example, if we are classifying movies as Oscar winners or not. What proportion of movies can we correctly identify as Oscar winners? \n",
    "\n",
    "## Error Rates \n",
    "\n",
    "Confusion matrices are great because they allow us to see what types of errors are model makes! If our model makes systematic errors, we need to know that! It is easiest to think about error rates in the context of a binary confusion matrix. \n",
    "\n",
    "<img src=\"img/binaryconfusionmatrix.png\"\n",
    "     alt=\"Example Great Movie\"\n",
    "     style=\"float: left; margin-right: 100px;\"/>"
   ]
  },
  {
   "cell_type": "markdown",
   "metadata": {},
   "source": [
    "Putting this in terms of our example: \n",
    "   - True Positive = You predicted a movie would get an Oscar, and it did! \n",
    "   - True Negative = You predicted a movie would *not* get an Oscar, and it did not get one. \n",
    "   - False Positive = You predicted a movie would get an Oscar, and it did *not*.\n",
    "   - False Negative = You predicted a movie would *not* get an Oscar, but it did. "
   ]
  },
  {
   "cell_type": "code",
   "execution_count": null,
   "metadata": {
    "collapsed": true
   },
   "outputs": [],
   "source": []
  },
  {
   "cell_type": "markdown",
   "metadata": {},
   "source": [
    "## Explore your errors\n",
    "\n",
    "Exploring the types of errors made by your model is super important! I recommend doing at least a simple check whenever you check model accuracy. \n",
    "\n",
    "While the internet and our newfound scraping skills can give us a ton of data, to develop good models, we need to consider that data with some skepticism and look at the errors our models make. \n",
    "\n",
    "For example, movies makers are notorious for overrepresenting some parts of society while underrepresenting others. While a movie audience is made of 50% women, only 24% of movie leads are women. 68% of all female characters were white in the top 100 films of 2017. 16% were Black, 7% were Asian, 7% were Latina, and 2% were of another race or ethnicity [[Women & Hollywood](https://womenandhollywood.com/resources/statistics/)]. \n",
    "\n",
    "This means that if we want to use movie data from previous, we have to be aware that most of the leads and speaking characters are going to have light skin and ~76% of them will be male.\n",
    "\n",
    "One clear example of how this can go wrong can be demonstrated by facial recognition software. Joy was a graduate student at the MIT Media Lab, working facial detection software, but she had trouble testing her code because the out of the box face detection software never detected her face. To test her code, she had to wear a white mask to be recognized. \n",
    "\n",
    "<img src=\"https://i.ytimg.com/vi/162VzSzzoPs/maxresdefault.jpg\"\n",
    "     alt=\"Bias in ML\"\n",
    "     style=\"float: left; margin-right: 100px;\"/>\n",
    "     \n",
    "Because the training data contained many light-skinned faces (similar to those below), the software was incapable of recognizing faces that deviated from that norm. \n",
    "\n",
    "<img src=\"https://productofsocietydotorg.files.wordpress.com/2016/02/faces-of-american-power-are-mostly-white-1456497978018-facebookjumbo.png?w=1024\"\n",
    "     alt=\"Bias in ML\"\n",
    "     style=\"float: left; margin-right: 100px;\"/>\n"
   ]
  },
  {
   "cell_type": "code",
   "execution_count": null,
   "metadata": {
    "collapsed": true
   },
   "outputs": [],
   "source": [
    "\n",
    "## ROC curves "
   ]
  },
  {
   "cell_type": "code",
   "execution_count": null,
   "metadata": {
    "collapsed": true
   },
   "outputs": [],
   "source": []
  }
 ],
 "metadata": {
  "anaconda-cloud": {},
  "kernelspec": {
   "display_name": "Python [default]",
   "language": "python",
   "name": "python2"
  },
  "language_info": {
   "codemirror_mode": {
    "name": "ipython",
    "version": 2
   },
   "file_extension": ".py",
   "mimetype": "text/x-python",
   "name": "python",
   "nbconvert_exporter": "python",
   "pygments_lexer": "ipython2",
   "version": "2.7.12"
  }
 },
 "nbformat": 4,
 "nbformat_minor": 1
}
